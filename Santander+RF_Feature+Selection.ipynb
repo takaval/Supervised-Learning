{
 "cells": [
  {
   "cell_type": "code",
   "execution_count": 2,
   "metadata": {},
   "outputs": [],
   "source": [
    "import pandas as pd\n",
    "import numpy as np\n",
    "import scipy as sy\n",
    "import seaborn as sns\n",
    "from scipy import stats\n",
    "from scipy.stats import norm\n",
    "import matplotlib.pyplot as plt\n",
    "% matplotlib inline\n",
    "from sklearn.preprocessing import MinMaxScaler\n",
    "\n",
    "from sklearn.ensemble import RandomForestRegressor\n",
    "from sklearn.model_selection import GridSearchCV\n",
    "from sklearn.model_selection import RandomizedSearchCV\n",
    "from sklearn.metrics import make_scorer\n",
    "from sklearn.metrics import mean_squared_error\n",
    "from sklearn.model_selection import train_test_split\n",
    "from time import time\n",
    "\n",
    "import warnings\n",
    "warnings.filterwarnings(\"ignore\")"
   ]
  },
  {
   "cell_type": "code",
   "execution_count": 3,
   "metadata": {
    "collapsed": true
   },
   "outputs": [],
   "source": [
    "df_train = pd.read_csv('//tsclient/U/General/Stand/train.csv')"
   ]
  },
  {
   "cell_type": "code",
   "execution_count": 25,
   "metadata": {
    "collapsed": true
   },
   "outputs": [],
   "source": [
    "df_test = pd.read_csv('//tsclient/U/General/Stand/test.csv')"
   ]
  },
  {
   "cell_type": "code",
   "execution_count": 9,
   "metadata": {},
   "outputs": [],
   "source": [
    "ID = df_train['ID']\n",
    "Y = df_train['target']\n",
    "log_Y = np.log(Y)\n",
    "df_train.drop(['ID','target'],axis=1,inplace=True)"
   ]
  },
  {
   "cell_type": "code",
   "execution_count": 10,
   "metadata": {
    "collapsed": true
   },
   "outputs": [],
   "source": [
    "S = 1 # Stride length\n",
    "L = 100\n",
    "prd_all = df_train.columns\n",
    "nrows_all = ((prd_all.size-100)//1)+1\n",
    "n = prd_all.strides[0]"
   ]
  },
  {
   "cell_type": "code",
   "execution_count": 11,
   "metadata": {
    "collapsed": true
   },
   "outputs": [],
   "source": [
    "predictors_all = np.lib.stride_tricks.as_strided(prd_all,shape=(nrows_all,L),strides=(S*n,n))"
   ]
  },
  {
   "cell_type": "code",
   "execution_count": 12,
   "metadata": {
    "collapsed": true
   },
   "outputs": [],
   "source": [
    "## Growing large number of RF trees \n",
    "model_1 = RandomForestRegressor(n_jobs=-1,n_estimators=2000,random_state=10,max_depth=2)"
   ]
  },
  {
   "cell_type": "code",
   "execution_count": 13,
   "metadata": {},
   "outputs": [],
   "source": [
    "df_fea_imp_all = pd.DataFrame(columns=['Feature_Name','Imp'])\n",
    "feats_all={}\n",
    "for pred in predictors_all:\n",
    "    model_1.fit(df_train[pred],log_Y)\n",
    "    pred_1_col_names = df_train[pred].columns\n",
    "    for feature,importance in zip(pred_1_col_names,model_1.feature_importances_):\n",
    "        feats_all[feature] = importance\n",
    "    importances = pd.DataFrame.from_dict(feats_all, orient='index').reset_index().rename(columns={'index':'Feature_Name',0: 'Imp'})\n",
    "    df_fea_imp_all = df_fea_imp_all.append(importances) "
   ]
  },
  {
   "cell_type": "markdown",
   "metadata": {},
   "source": [
    "Now that we have built a multiple random forest to assess the feature importance, lets aggregate across all the Feature_Importances to find the Average, Median,Max & Min feature importance "
   ]
  },
  {
   "cell_type": "code",
   "execution_count": 18,
   "metadata": {},
   "outputs": [],
   "source": [
    "df_fea_imp_sorted_all = df_fea_imp_all.groupby(['Feature_Name'])['Imp'].mean().sort_values(ascending=False).reset_index()\n",
    "df_fea_imp_sorted_all.to_csv('//tsclient/U/General/Stand/fea_imp.csv',index=False)"
   ]
  },
  {
   "cell_type": "code",
   "execution_count": 19,
   "metadata": {
    "collapsed": true
   },
   "outputs": [],
   "source": [
    "df_fea_imp_sorted_all_med = df_fea_imp_all.groupby(['Feature_Name'])['Imp'].median().sort_values(ascending=False).reset_index()\n",
    "df_fea_imp_sorted_all_med.to_csv('//tsclient/U/General/Stand/fea_imp_median.csv',index=False)"
   ]
  },
  {
   "cell_type": "code",
   "execution_count": 20,
   "metadata": {
    "collapsed": true
   },
   "outputs": [],
   "source": [
    "df_fea_imp_sorted_all_max = df_fea_imp_all.groupby(['Feature_Name'])['Imp'].max().sort_values(ascending=False).reset_index()\n",
    "df_fea_imp_sorted_all_max.to_csv('//tsclient/U/General/Stand/fea_imp_max.csv',index=False)"
   ]
  },
  {
   "cell_type": "code",
   "execution_count": 21,
   "metadata": {
    "collapsed": true
   },
   "outputs": [],
   "source": [
    "df_fea_imp_sorted_all_min = df_fea_imp_all.groupby(['Feature_Name'])['Imp'].min().sort_values(ascending=False).reset_index()\n",
    "df_fea_imp_sorted_all_min.to_csv('//tsclient/U/General/Stand/fea_imp_min.csv',index=False)"
   ]
  },
  {
   "cell_type": "markdown",
   "metadata": {},
   "source": [
    "Let's use all the features whose average Feature Imp is > 0.005 and build a model"
   ]
  },
  {
   "cell_type": "code",
   "execution_count": 23,
   "metadata": {},
   "outputs": [],
   "source": [
    "rf_fea_imp = df_fea_imp_sorted_all.Feature_Name[df_fea_imp_sorted_all.Imp > 0.005]"
   ]
  },
  {
   "cell_type": "code",
   "execution_count": 26,
   "metadata": {},
   "outputs": [],
   "source": [
    "df_train_rf_sample = df_train.filter(items=rf_fea_imp)\n",
    "df_test_rf_sample = df_test.filter(items=rf_fea_imp)"
   ]
  },
  {
   "cell_type": "code",
   "execution_count": 28,
   "metadata": {},
   "outputs": [],
   "source": [
    "tr = MinMaxScaler()\n",
    "df_train_sample_rf_tr = tr.fit_transform(df_train_rf_sample.values)\n",
    "df_test_sample_rf_tr = tr.transform(df_test_rf_sample.values)"
   ]
  },
  {
   "cell_type": "code",
   "execution_count": 29,
   "metadata": {
    "collapsed": true
   },
   "outputs": [],
   "source": [
    "from sklearn.ensemble import RandomForestRegressor\n",
    "from sklearn.model_selection import GridSearchCV\n",
    "from sklearn.model_selection import RandomizedSearchCV\n",
    "from sklearn.metrics import make_scorer\n",
    "from sklearn.metrics import mean_squared_error\n",
    "from sklearn.model_selection import train_test_split\n",
    "from time import time"
   ]
  },
  {
   "cell_type": "code",
   "execution_count": 30,
   "metadata": {
    "collapsed": true
   },
   "outputs": [],
   "source": [
    "grid_param_grid = {\"n_estimators\": [200, 500,1000],\n",
    "    \"max_depth\": [3, None],\n",
    "    \"max_features\": [1, 3, 5, 10],\n",
    "    \"min_samples_split\": [2, 5, 10],\n",
    "    \"min_samples_leaf\": [1, 3, 10],\n",
    "    \"bootstrap\": [True, False],\n",
    "    \"criterion\" :['mse','mae']}"
   ]
  },
  {
   "cell_type": "code",
   "execution_count": 31,
   "metadata": {
    "collapsed": true
   },
   "outputs": [],
   "source": [
    "# Utility function to report best scores\n",
    "def report(results, n_top=3):\n",
    "    for i in range(1, n_top + 1):\n",
    "        candidates = np.flatnonzero(results['rank_test_score'] == i)\n",
    "        for candidate in candidates:\n",
    "            print(\"Model with rank: {0}\".format(i))\n",
    "            print(\"Mean validation score: {0:.3f} (std: {1:.3f})\".format(\n",
    "                  results['mean_test_score'][candidate],\n",
    "                  results['std_test_score'][candidate]))\n",
    "            print(\"Parameters: {0}\".format(results['params'][candidate]))\n",
    "            print(\"\")"
   ]
  },
  {
   "cell_type": "code",
   "execution_count": 32,
   "metadata": {
    "collapsed": true
   },
   "outputs": [],
   "source": [
    "model = RandomForestRegressor(random_state=10)\n",
    "n_iter_search = 20\n",
    "grid_search = RandomizedSearchCV(estimator=model,param_distributions=grid_param_grid,n_iter=n_iter_search,scoring='mean_squared_error')"
   ]
  },
  {
   "cell_type": "code",
   "execution_count": 33,
   "metadata": {
    "collapsed": true
   },
   "outputs": [],
   "source": [
    "X_train, X_val, y_train, y_val = train_test_split(df_train_rf_sample, log_Y, test_size = 0.2, random_state = 0)"
   ]
  },
  {
   "cell_type": "code",
   "execution_count": 34,
   "metadata": {
    "collapsed": true
   },
   "outputs": [],
   "source": [
    "start = time()"
   ]
  },
  {
   "cell_type": "code",
   "execution_count": 35,
   "metadata": {},
   "outputs": [
    {
     "name": "stdout",
     "output_type": "stream",
     "text": [
      "GridSearchCV took 3950.60 seconds for 20 candidates parameter settings.\n",
      "Model with rank: 1\n",
      "Mean validation score: -2.130 (std: 0.074)\n",
      "Parameters: {'n_estimators': 1000, 'min_samples_split': 2, 'min_samples_leaf': 1, 'max_features': 10, 'max_depth': None, 'criterion': 'mse', 'bootstrap': True}\n",
      "\n",
      "Model with rank: 2\n",
      "Mean validation score: -2.132 (std: 0.083)\n",
      "Parameters: {'n_estimators': 1000, 'min_samples_split': 10, 'min_samples_leaf': 1, 'max_features': 5, 'max_depth': None, 'criterion': 'mae', 'bootstrap': False}\n",
      "\n",
      "Model with rank: 3\n",
      "Mean validation score: -2.149 (std: 0.079)\n",
      "Parameters: {'n_estimators': 500, 'min_samples_split': 10, 'min_samples_leaf': 1, 'max_features': 3, 'max_depth': None, 'criterion': 'mse', 'bootstrap': False}\n",
      "\n"
     ]
    }
   ],
   "source": [
    "grid_search.fit(X_train,y_train)\n",
    "print(\"GridSearchCV took %.2f seconds for %d candidates\"\n",
    "      \" parameter settings.\" % ((time() - start), n_iter_search))\n",
    "report(grid_search.cv_results_)"
   ]
  },
  {
   "cell_type": "code",
   "execution_count": 36,
   "metadata": {
    "collapsed": true
   },
   "outputs": [],
   "source": [
    "y_pred_val = grid_search.predict(X_val)"
   ]
  },
  {
   "cell_type": "code",
   "execution_count": 37,
   "metadata": {},
   "outputs": [
    {
     "data": {
      "text/plain": [
       "<matplotlib.text.Text at 0x33cc124a8>"
      ]
     },
     "execution_count": 37,
     "metadata": {},
     "output_type": "execute_result"
    },
    {
     "data": {
      "image/png": "[encoded data removed]",
      "text/plain": [
       "<matplotlib.figure.Figure at 0x33cbd5588>"
      ]
     },
     "metadata": {},
     "output_type": "display_data"
    }
   ],
   "source": [
    "plt.scatter(y_val, y_pred_val)\n",
    "plt.xlabel(\"True\")\n",
    "plt.ylabel(\"Pred\")"
   ]
  },
  {
   "cell_type": "code",
   "execution_count": 38,
   "metadata": {
    "collapsed": true
   },
   "outputs": [],
   "source": [
    "log_ypred = grid_search.predict(df_test_sample_rf_tr)"
   ]
  },
  {
   "cell_type": "code",
   "execution_count": 39,
   "metadata": {
    "collapsed": true
   },
   "outputs": [],
   "source": [
    "ypred = np.exp(log_ypred)\n",
    "ID = df_test['ID']\n",
    "rf_sub = pd.DataFrame({'ID':ID,'target':ypred})"
   ]
  },
  {
   "cell_type": "code",
   "execution_count": 40,
   "metadata": {
    "collapsed": true
   },
   "outputs": [],
   "source": [
    "rf_sub.to_csv('//tsclient/U/General/Stand/submission__aug_05_0.1.csv',index=False)"
   ]
  },
  {
   "cell_type": "markdown",
   "metadata": {},
   "source": [
    "If we submit the above file, we get a score of 1.82 (topper is @ 0.47), \n",
    "which isnt bad considering the minimum effort we had put in and the choice of algorithm."
   ]
  }
 ],
 "metadata": {
  "kernelspec": {
   "display_name": "Python 3",
   "language": "python",
   "name": "python3"
  },
  "language_info": {
   "codemirror_mode": {
    "name": "ipython",
    "version": 3
   },
   "file_extension": ".py",
   "mimetype": "text/x-python",
   "name": "python",
   "nbconvert_exporter": "python",
   "pygments_lexer": "ipython3",
   "version": "3.6.1"
  }
 },
 "nbformat": 4,
 "nbformat_minor": 2
}
