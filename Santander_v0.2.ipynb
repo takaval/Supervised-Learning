{
 "cells": [
  {
   "cell_type": "code",
   "execution_count": 2,
   "metadata": {
    "collapsed": true
   },
   "outputs": [],
   "source": [
    "import pandas as pd\n",
    "import numpy as np\n",
    "import scipy as sy\n",
    "import seaborn as sns\n",
    "from scipy import stats\n",
    "from scipy.stats import norm\n",
    "import matplotlib.pyplot as plt\n",
    "% matplotlib inline\n",
    "from sklearn.preprocessing import MinMaxScaler"
   ]
  },
  {
   "cell_type": "code",
   "execution_count": 4,
   "metadata": {
    "collapsed": true
   },
   "outputs": [],
   "source": [
    "df_train = pd.read_csv('../Stand/train.csv')"
   ]
  },
  {
   "cell_type": "code",
   "execution_count": 9,
   "metadata": {
    "collapsed": true
   },
   "outputs": [],
   "source": [
    "tr = MinMaxScaler()"
   ]
  },
  {
   "cell_type": "code",
   "execution_count": 5,
   "metadata": {
    "collapsed": true
   },
   "outputs": [],
   "source": [
    "df_test = pd.read_csv('../Stand/test.csv')"
   ]
  },
  {
   "cell_type": "code",
   "execution_count": 84,
   "metadata": {},
   "outputs": [
    {
     "name": "stdout",
     "output_type": "stream",
     "text": [
      "The number of features are : 4991,& the number of instances are : 4459\n"
     ]
    }
   ],
   "source": [
    "print(\"The number of features are : {0},& the number of instances are : {1}\".format(df_train.shape[1],df_train.shape[0]))"
   ]
  },
  {
   "cell_type": "code",
   "execution_count": 20,
   "metadata": {},
   "outputs": [
    {
     "data": {
      "text/html": [
       "<div>\n",
       "<style>\n",
       "    .dataframe thead tr:only-child th {\n",
       "        text-align: right;\n",
       "    }\n",
       "\n",
       "    .dataframe thead th {\n",
       "        text-align: left;\n",
       "    }\n",
       "\n",
       "    .dataframe tbody tr th {\n",
       "        vertical-align: top;\n",
       "    }\n",
       "</style>\n",
       "<table border=\"1\" class=\"dataframe\">\n",
       "  <thead>\n",
       "    <tr style=\"text-align: right;\">\n",
       "      <th></th>\n",
       "      <th>ID</th>\n",
       "      <th>target</th>\n",
       "      <th>48df886f9</th>\n",
       "      <th>0deb4b6a8</th>\n",
       "      <th>34b15f335</th>\n",
       "      <th>a8cb14b00</th>\n",
       "      <th>2f0771a37</th>\n",
       "      <th>30347e683</th>\n",
       "      <th>d08d1fbe3</th>\n",
       "      <th>6ee66e115</th>\n",
       "      <th>...</th>\n",
       "      <th>3ecc09859</th>\n",
       "      <th>9281abeea</th>\n",
       "      <th>8675bec0b</th>\n",
       "      <th>3a13ed79a</th>\n",
       "      <th>f677d4d13</th>\n",
       "      <th>71b203550</th>\n",
       "      <th>137efaa80</th>\n",
       "      <th>fb36b89d9</th>\n",
       "      <th>7e293fbaf</th>\n",
       "      <th>9fc776466</th>\n",
       "    </tr>\n",
       "  </thead>\n",
       "  <tbody>\n",
       "    <tr>\n",
       "      <th>0</th>\n",
       "      <td>000d6aaf2</td>\n",
       "      <td>38000000.0</td>\n",
       "      <td>0.0</td>\n",
       "      <td>0</td>\n",
       "      <td>0.0</td>\n",
       "      <td>0</td>\n",
       "      <td>0</td>\n",
       "      <td>0</td>\n",
       "      <td>0</td>\n",
       "      <td>0</td>\n",
       "      <td>...</td>\n",
       "      <td>0.0</td>\n",
       "      <td>0.0</td>\n",
       "      <td>0.0</td>\n",
       "      <td>0</td>\n",
       "      <td>0</td>\n",
       "      <td>0</td>\n",
       "      <td>0</td>\n",
       "      <td>0</td>\n",
       "      <td>0</td>\n",
       "      <td>0</td>\n",
       "    </tr>\n",
       "    <tr>\n",
       "      <th>1</th>\n",
       "      <td>000fbd867</td>\n",
       "      <td>600000.0</td>\n",
       "      <td>0.0</td>\n",
       "      <td>0</td>\n",
       "      <td>0.0</td>\n",
       "      <td>0</td>\n",
       "      <td>0</td>\n",
       "      <td>0</td>\n",
       "      <td>0</td>\n",
       "      <td>0</td>\n",
       "      <td>...</td>\n",
       "      <td>0.0</td>\n",
       "      <td>0.0</td>\n",
       "      <td>0.0</td>\n",
       "      <td>0</td>\n",
       "      <td>0</td>\n",
       "      <td>0</td>\n",
       "      <td>0</td>\n",
       "      <td>0</td>\n",
       "      <td>0</td>\n",
       "      <td>0</td>\n",
       "    </tr>\n",
       "    <tr>\n",
       "      <th>2</th>\n",
       "      <td>0027d6b71</td>\n",
       "      <td>10000000.0</td>\n",
       "      <td>0.0</td>\n",
       "      <td>0</td>\n",
       "      <td>0.0</td>\n",
       "      <td>0</td>\n",
       "      <td>0</td>\n",
       "      <td>0</td>\n",
       "      <td>0</td>\n",
       "      <td>0</td>\n",
       "      <td>...</td>\n",
       "      <td>0.0</td>\n",
       "      <td>0.0</td>\n",
       "      <td>0.0</td>\n",
       "      <td>0</td>\n",
       "      <td>0</td>\n",
       "      <td>0</td>\n",
       "      <td>0</td>\n",
       "      <td>0</td>\n",
       "      <td>0</td>\n",
       "      <td>0</td>\n",
       "    </tr>\n",
       "    <tr>\n",
       "      <th>3</th>\n",
       "      <td>0028cbf45</td>\n",
       "      <td>2000000.0</td>\n",
       "      <td>0.0</td>\n",
       "      <td>0</td>\n",
       "      <td>0.0</td>\n",
       "      <td>0</td>\n",
       "      <td>0</td>\n",
       "      <td>0</td>\n",
       "      <td>0</td>\n",
       "      <td>0</td>\n",
       "      <td>...</td>\n",
       "      <td>0.0</td>\n",
       "      <td>0.0</td>\n",
       "      <td>0.0</td>\n",
       "      <td>0</td>\n",
       "      <td>0</td>\n",
       "      <td>0</td>\n",
       "      <td>0</td>\n",
       "      <td>0</td>\n",
       "      <td>0</td>\n",
       "      <td>0</td>\n",
       "    </tr>\n",
       "    <tr>\n",
       "      <th>4</th>\n",
       "      <td>002a68644</td>\n",
       "      <td>14400000.0</td>\n",
       "      <td>0.0</td>\n",
       "      <td>0</td>\n",
       "      <td>0.0</td>\n",
       "      <td>0</td>\n",
       "      <td>0</td>\n",
       "      <td>0</td>\n",
       "      <td>0</td>\n",
       "      <td>0</td>\n",
       "      <td>...</td>\n",
       "      <td>0.0</td>\n",
       "      <td>0.0</td>\n",
       "      <td>0.0</td>\n",
       "      <td>0</td>\n",
       "      <td>0</td>\n",
       "      <td>0</td>\n",
       "      <td>0</td>\n",
       "      <td>0</td>\n",
       "      <td>0</td>\n",
       "      <td>0</td>\n",
       "    </tr>\n",
       "  </tbody>\n",
       "</table>\n",
       "<p>5 rows × 4993 columns</p>\n",
       "</div>"
      ],
      "text/plain": [
       "          ID      target  48df886f9  0deb4b6a8  34b15f335  a8cb14b00  \\\n",
       "0  000d6aaf2  38000000.0        0.0          0        0.0          0   \n",
       "1  000fbd867    600000.0        0.0          0        0.0          0   \n",
       "2  0027d6b71  10000000.0        0.0          0        0.0          0   \n",
       "3  0028cbf45   2000000.0        0.0          0        0.0          0   \n",
       "4  002a68644  14400000.0        0.0          0        0.0          0   \n",
       "\n",
       "   2f0771a37  30347e683  d08d1fbe3  6ee66e115    ...      3ecc09859  \\\n",
       "0          0          0          0          0    ...            0.0   \n",
       "1          0          0          0          0    ...            0.0   \n",
       "2          0          0          0          0    ...            0.0   \n",
       "3          0          0          0          0    ...            0.0   \n",
       "4          0          0          0          0    ...            0.0   \n",
       "\n",
       "   9281abeea  8675bec0b  3a13ed79a  f677d4d13  71b203550  137efaa80  \\\n",
       "0        0.0        0.0          0          0          0          0   \n",
       "1        0.0        0.0          0          0          0          0   \n",
       "2        0.0        0.0          0          0          0          0   \n",
       "3        0.0        0.0          0          0          0          0   \n",
       "4        0.0        0.0          0          0          0          0   \n",
       "\n",
       "   fb36b89d9  7e293fbaf  9fc776466  \n",
       "0          0          0          0  \n",
       "1          0          0          0  \n",
       "2          0          0          0  \n",
       "3          0          0          0  \n",
       "4          0          0          0  \n",
       "\n",
       "[5 rows x 4993 columns]"
      ]
     },
     "execution_count": 20,
     "metadata": {},
     "output_type": "execute_result"
    }
   ],
   "source": [
    "df_train.head()"
   ]
  },
  {
   "cell_type": "code",
   "execution_count": 6,
   "metadata": {
    "collapsed": true
   },
   "outputs": [],
   "source": [
    "ID = df_train['ID']\n",
    "Y = df_train['target']"
   ]
  },
  {
   "cell_type": "code",
   "execution_count": 7,
   "metadata": {
    "collapsed": true
   },
   "outputs": [],
   "source": [
    "df_train.drop(['ID','target'],axis=1,inplace=True)"
   ]
  },
  {
   "cell_type": "code",
   "execution_count": 10,
   "metadata": {
    "collapsed": true
   },
   "outputs": [],
   "source": [
    "df_train_tr = tr.fit_transform(df_train.values)"
   ]
  },
  {
   "cell_type": "code",
   "execution_count": 11,
   "metadata": {
    "collapsed": true
   },
   "outputs": [],
   "source": [
    "df_train_des = pd.DataFrame(df_train_tr,columns=df_train.columns)"
   ]
  },
  {
   "cell_type": "code",
   "execution_count": 12,
   "metadata": {
    "collapsed": true
   },
   "outputs": [],
   "source": [
    "df_train_des = df_train.describe().T"
   ]
  },
  {
   "cell_type": "code",
   "execution_count": 13,
   "metadata": {
    "collapsed": true
   },
   "outputs": [],
   "source": [
    "df_train_des = df_train_des.reset_index().rename(columns={'index':'columns'})"
   ]
  },
  {
   "cell_type": "code",
   "execution_count": 14,
   "metadata": {},
   "outputs": [
    {
     "data": {
      "text/html": [
       "<div>\n",
       "<style>\n",
       "    .dataframe thead tr:only-child th {\n",
       "        text-align: right;\n",
       "    }\n",
       "\n",
       "    .dataframe thead th {\n",
       "        text-align: left;\n",
       "    }\n",
       "\n",
       "    .dataframe tbody tr th {\n",
       "        vertical-align: top;\n",
       "    }\n",
       "</style>\n",
       "<table border=\"1\" class=\"dataframe\">\n",
       "  <thead>\n",
       "    <tr style=\"text-align: right;\">\n",
       "      <th></th>\n",
       "      <th>columns</th>\n",
       "      <th>count</th>\n",
       "      <th>mean</th>\n",
       "      <th>std</th>\n",
       "      <th>min</th>\n",
       "      <th>25%</th>\n",
       "      <th>50%</th>\n",
       "      <th>75%</th>\n",
       "      <th>max</th>\n",
       "    </tr>\n",
       "  </thead>\n",
       "  <tbody>\n",
       "    <tr>\n",
       "      <th>0</th>\n",
       "      <td>48df886f9</td>\n",
       "      <td>4459.0</td>\n",
       "      <td>14654.930101</td>\n",
       "      <td>3.893298e+05</td>\n",
       "      <td>0.0</td>\n",
       "      <td>0.0</td>\n",
       "      <td>0.0</td>\n",
       "      <td>0.0</td>\n",
       "      <td>20000000.0</td>\n",
       "    </tr>\n",
       "    <tr>\n",
       "      <th>1</th>\n",
       "      <td>0deb4b6a8</td>\n",
       "      <td>4459.0</td>\n",
       "      <td>1390.894819</td>\n",
       "      <td>6.428302e+04</td>\n",
       "      <td>0.0</td>\n",
       "      <td>0.0</td>\n",
       "      <td>0.0</td>\n",
       "      <td>0.0</td>\n",
       "      <td>4000000.0</td>\n",
       "    </tr>\n",
       "    <tr>\n",
       "      <th>2</th>\n",
       "      <td>34b15f335</td>\n",
       "      <td>4459.0</td>\n",
       "      <td>26722.450922</td>\n",
       "      <td>5.699652e+05</td>\n",
       "      <td>0.0</td>\n",
       "      <td>0.0</td>\n",
       "      <td>0.0</td>\n",
       "      <td>0.0</td>\n",
       "      <td>20000000.0</td>\n",
       "    </tr>\n",
       "    <tr>\n",
       "      <th>3</th>\n",
       "      <td>a8cb14b00</td>\n",
       "      <td>4459.0</td>\n",
       "      <td>4530.163714</td>\n",
       "      <td>2.359124e+05</td>\n",
       "      <td>0.0</td>\n",
       "      <td>0.0</td>\n",
       "      <td>0.0</td>\n",
       "      <td>0.0</td>\n",
       "      <td>14800000.0</td>\n",
       "    </tr>\n",
       "    <tr>\n",
       "      <th>4</th>\n",
       "      <td>2f0771a37</td>\n",
       "      <td>4459.0</td>\n",
       "      <td>26409.957390</td>\n",
       "      <td>1.514730e+06</td>\n",
       "      <td>0.0</td>\n",
       "      <td>0.0</td>\n",
       "      <td>0.0</td>\n",
       "      <td>0.0</td>\n",
       "      <td>100000000.0</td>\n",
       "    </tr>\n",
       "  </tbody>\n",
       "</table>\n",
       "</div>"
      ],
      "text/plain": [
       "     columns   count          mean           std  min  25%  50%  75%  \\\n",
       "0  48df886f9  4459.0  14654.930101  3.893298e+05  0.0  0.0  0.0  0.0   \n",
       "1  0deb4b6a8  4459.0   1390.894819  6.428302e+04  0.0  0.0  0.0  0.0   \n",
       "2  34b15f335  4459.0  26722.450922  5.699652e+05  0.0  0.0  0.0  0.0   \n",
       "3  a8cb14b00  4459.0   4530.163714  2.359124e+05  0.0  0.0  0.0  0.0   \n",
       "4  2f0771a37  4459.0  26409.957390  1.514730e+06  0.0  0.0  0.0  0.0   \n",
       "\n",
       "           max  \n",
       "0   20000000.0  \n",
       "1    4000000.0  \n",
       "2   20000000.0  \n",
       "3   14800000.0  \n",
       "4  100000000.0  "
      ]
     },
     "execution_count": 14,
     "metadata": {},
     "output_type": "execute_result"
    }
   ],
   "source": [
    "df_train_des.head()"
   ]
  },
  {
   "cell_type": "code",
   "execution_count": 15,
   "metadata": {
    "collapsed": true
   },
   "outputs": [],
   "source": [
    "df_train_des['Variance'] = df_train_des['columns'].apply(lambda x : np.var(df_train[x]))"
   ]
  },
  {
   "cell_type": "code",
   "execution_count": 16,
   "metadata": {},
   "outputs": [
    {
     "name": "stdout",
     "output_type": "stream",
     "text": [
      "Total features in the dataset is : 4991\n",
      "No of Columns having variance > Median is 2495 \n",
      "No of Columns having variance > 3rd quartile is 1248 \n",
      "No of Columns having variance > 85th percentile is 749 \n",
      "No of Columns having variance > 95th quartile is 250 \n"
     ]
    }
   ],
   "source": [
    "print(\"Total features in the dataset is : {0}\".format(df_train.shape[1]))\n",
    "print(\"No of Columns having variance > Median is {0} \".format(len(df_train_des['columns'][df_train_des['Variance'] > df_train_des['Variance'].quantile(.50)])))\n",
    "print(\"No of Columns having variance > 3rd quartile is {0} \".format(len(df_train_des['columns'][df_train_des['Variance'] > df_train_des['Variance'].quantile(.75)])))\n",
    "print(\"No of Columns having variance > 85th percentile is {0} \".format(len(df_train_des['columns'][df_train_des['Variance'] > df_train_des['Variance'].quantile(.85)])))\n",
    "print(\"No of Columns having variance > 95th quartile is {0} \".format(len(df_train_des['columns'][df_train_des['Variance'] > df_train_des['Variance'].quantile(.95)])))\n"
   ]
  },
  {
   "cell_type": "code",
   "execution_count": 17,
   "metadata": {
    "collapsed": true
   },
   "outputs": [],
   "source": [
    "df_train_des['distinct_vals'] = df_train_des['columns'].apply(lambda x : len(df_train[x].value_counts()))"
   ]
  },
  {
   "cell_type": "code",
   "execution_count": 18,
   "metadata": {
    "collapsed": true
   },
   "outputs": [],
   "source": [
    "#df_train_des['Mean'] = df_train_des['columns'].apply(lambda x : np.mean(df_train[x]))\n",
    "df_train_des['Std_Dev'] = df_train_des['columns'].apply(lambda x : np.std(df_train[x]))\n",
    "df_train_des['Corr'] = df_train_des['columns'].apply(lambda x : np.corrcoef(Y,df_train[x])[0][1])"
   ]
  },
  {
   "cell_type": "code",
   "execution_count": 23,
   "metadata": {
    "collapsed": true
   },
   "outputs": [],
   "source": [
    "#(xranks, yranks)\n",
    "import scipy.stats\n",
    "df_train_des['Spearman_Corr'] = df_train_des['columns'].apply(lambda x : scipy.stats.pearsonr(Y,df_train[x])[0])"
   ]
  },
  {
   "cell_type": "code",
   "execution_count": 24,
   "metadata": {},
   "outputs": [
    {
     "data": {
      "text/plain": [
       "count    4.991000e+03\n",
       "mean     2.899561e+06\n",
       "std      4.458922e+06\n",
       "min      0.000000e+00\n",
       "25%      6.164478e+05\n",
       "50%      1.706187e+06\n",
       "75%      3.773485e+06\n",
       "max      6.971865e+07\n",
       "Name: Std_Dev, dtype: float64"
      ]
     },
     "execution_count": 24,
     "metadata": {},
     "output_type": "execute_result"
    }
   ],
   "source": [
    "df_train_des['Std_Dev'].describe()"
   ]
  },
  {
   "cell_type": "code",
   "execution_count": 25,
   "metadata": {},
   "outputs": [
    {
     "name": "stdout",
     "output_type": "stream",
     "text": [
      "Total features in the dataset is : 4991\n",
      "No of Columns having variance > Median is 2495 \n",
      "No of Columns having variance > 3rd quartile is 1248 \n",
      "No of Columns having variance > 85th percentile is 749 \n",
      "No of Columns having variance > 95th quartile is 250 \n"
     ]
    }
   ],
   "source": [
    "print(\"Total features in the dataset is : {0}\".format(df_train.shape[1]))\n",
    "print(\"No of Columns having variance > Median is {0} \".format(len(df_train_des['columns'][df_train_des['Std_Dev'] > df_train_des['Std_Dev'].quantile(.50)])))\n",
    "print(\"No of Columns having variance > 3rd quartile is {0} \".format(len(df_train_des['columns'][df_train_des['Std_Dev'] > df_train_des['Std_Dev'].quantile(.75)])))\n",
    "print(\"No of Columns having variance > 85th percentile is {0} \".format(len(df_train_des['columns'][df_train_des['Std_Dev'] > df_train_des['Std_Dev'].quantile(.85)])))\n",
    "print(\"No of Columns having variance > 95th quartile is {0} \".format(len(df_train_des['columns'][df_train_des['Std_Dev'] > df_train_des['Std_Dev'].quantile(.95)])))"
   ]
  },
  {
   "cell_type": "code",
   "execution_count": 27,
   "metadata": {},
   "outputs": [
    {
     "data": {
      "text/plain": [
       "count    4735.000000\n",
       "mean        0.023465\n",
       "std         0.053689\n",
       "min        -0.051813\n",
       "25%        -0.007194\n",
       "50%         0.006248\n",
       "75%         0.028457\n",
       "max         0.273379\n",
       "Name: Spearman_Corr, dtype: float64"
      ]
     },
     "execution_count": 27,
     "metadata": {},
     "output_type": "execute_result"
    }
   ],
   "source": [
    "df_train_des['Spearman_Corr'].describe()"
   ]
  },
  {
   "cell_type": "code",
   "execution_count": 26,
   "metadata": {},
   "outputs": [
    {
     "data": {
      "text/plain": [
       "count    4735.000000\n",
       "mean        0.023465\n",
       "std         0.053689\n",
       "min        -0.051813\n",
       "25%        -0.007194\n",
       "50%         0.006248\n",
       "75%         0.028457\n",
       "max         0.273379\n",
       "Name: Corr, dtype: float64"
      ]
     },
     "execution_count": 26,
     "metadata": {},
     "output_type": "execute_result"
    }
   ],
   "source": [
    "df_train_des['Corr'].describe()"
   ]
  },
  {
   "cell_type": "code",
   "execution_count": 28,
   "metadata": {},
   "outputs": [
    {
     "name": "stdout",
     "output_type": "stream",
     "text": [
      "Total features in the dataset is : 4991\n",
      "No of Columns having Corr > Median is 2367 \n",
      "No of Columns having Corr > 3rd quartile is 1184 \n",
      "No of Columns having Corr > 85th percentile is 711 \n",
      "No of Columns having Corr > 95th quartile is 237 \n"
     ]
    }
   ],
   "source": [
    "print(\"Total features in the dataset is : {0}\".format(df_train.shape[1]))\n",
    "print(\"No of Columns having Corr > Median is {0} \".format(len(df_train_des['columns'][df_train_des['Corr'] > df_train_des['Corr'].quantile(.50)])))\n",
    "print(\"No of Columns having Corr > 3rd quartile is {0} \".format(len(df_train_des['columns'][df_train_des['Corr'] > df_train_des['Corr'].quantile(.75)])))\n",
    "print(\"No of Columns having Corr > 85th percentile is {0} \".format(len(df_train_des['columns'][df_train_des['Corr'] > df_train_des['Corr'].quantile(.85)])))\n",
    "print(\"No of Columns having Corr > 95th quartile is {0} \".format(len(df_train_des['columns'][df_train_des['Corr'] > df_train_des['Corr'].quantile(.95)])))"
   ]
  },
  {
   "cell_type": "code",
   "execution_count": 29,
   "metadata": {},
   "outputs": [
    {
     "name": "stdout",
     "output_type": "stream",
     "text": [
      "Total features in the dataset is : 4991\n",
      "No of Columns having Spearman_Corr > Median is 2368 \n",
      "No of Columns having Spearman_Corr > 3rd quartile is 1184 \n",
      "No of Columns having Spearman_Corr > 85th percentile is 711 \n",
      "No of Columns having Spearman_Corr > 95th quartile is 237 \n"
     ]
    }
   ],
   "source": [
    "print(\"Total features in the dataset is : {0}\".format(df_train.shape[1]))\n",
    "print(\"No of Columns having Spearman_Corr > Median is {0} \".format(len(df_train_des['columns'][df_train_des['Corr'] > df_train_des['Spearman_Corr'].quantile(.50)])))\n",
    "print(\"No of Columns having Spearman_Corr > 3rd quartile is {0} \".format(len(df_train_des['columns'][df_train_des['Corr'] > df_train_des['Spearman_Corr'].quantile(.75)])))\n",
    "print(\"No of Columns having Spearman_Corr > 85th percentile is {0} \".format(len(df_train_des['columns'][df_train_des['Corr'] > df_train_des['Spearman_Corr'].quantile(.85)])))\n",
    "print(\"No of Columns having Spearman_Corr > 95th quartile is {0} \".format(len(df_train_des['columns'][df_train_des['Corr'] > df_train_des['Spearman_Corr'].quantile(.95)])))"
   ]
  },
  {
   "cell_type": "code",
   "execution_count": 30,
   "metadata": {
    "collapsed": true
   },
   "outputs": [],
   "source": [
    "col_stddev = list(df_train_des['columns'][df_train_des['Std_Dev'] > df_train_des['Std_Dev'].quantile(.95)])"
   ]
  },
  {
   "cell_type": "code",
   "execution_count": 31,
   "metadata": {
    "collapsed": true
   },
   "outputs": [],
   "source": [
    "col_corr = list(df_train_des['columns'][df_train_des['Corr'] > df_train_des['Corr'].quantile(.95)])"
   ]
  },
  {
   "cell_type": "code",
   "execution_count": 32,
   "metadata": {
    "collapsed": true
   },
   "outputs": [],
   "source": [
    "col_spearman_corr = list(df_train_des['columns'][df_train_des['Spearman_Corr'] > df_train_des['Spearman_Corr'].quantile(.95)])"
   ]
  },
  {
   "cell_type": "code",
   "execution_count": 85,
   "metadata": {},
   "outputs": [
    {
     "data": {
      "text/plain": [
       "226"
      ]
     },
     "execution_count": 85,
     "metadata": {},
     "output_type": "execute_result"
    }
   ],
   "source": [
    "len(set(col_stddev)-set(col_corr))"
   ]
  },
  {
   "cell_type": "code",
   "execution_count": 86,
   "metadata": {},
   "outputs": [
    {
     "data": {
      "text/plain": [
       "213"
      ]
     },
     "execution_count": 86,
     "metadata": {},
     "output_type": "execute_result"
    }
   ],
   "source": [
    "len(set(col_corr)-set(col_stddev))"
   ]
  },
  {
   "cell_type": "code",
   "execution_count": 87,
   "metadata": {},
   "outputs": [
    {
     "data": {
      "text/plain": [
       "463"
      ]
     },
     "execution_count": 87,
     "metadata": {},
     "output_type": "execute_result"
    }
   ],
   "source": [
    "# Union of features having high Standard Deviation & Correlation to the target\n",
    "len(set.union(set(col_stddev),set(col_corr)))"
   ]
  },
  {
   "cell_type": "code",
   "execution_count": 88,
   "metadata": {
    "collapsed": true
   },
   "outputs": [],
   "source": [
    "# Intersection of features having high Standard Deviation & Correlation to the target\n",
    "fea_intersect = list(set.intersection(set(col_stddev),set(col_corr)))"
   ]
  },
  {
   "cell_type": "code",
   "execution_count": 91,
   "metadata": {
    "collapsed": true
   },
   "outputs": [],
   "source": [
    "fea_union = list(set.union(set(col_stddev),set(col_corr)))"
   ]
  },
  {
   "cell_type": "code",
   "execution_count": 293,
   "metadata": {
    "collapsed": true
   },
   "outputs": [],
   "source": [
    "pd.DataFrame(fea_union).to_csv('//tsclient/U/General/Stand/feature_union.csv',index=False)"
   ]
  },
  {
   "cell_type": "code",
   "execution_count": 90,
   "metadata": {
    "collapsed": true
   },
   "outputs": [],
   "source": [
    "df_train_sample = df_train.filter(items=fea_intersect)"
   ]
  },
  {
   "cell_type": "code",
   "execution_count": 92,
   "metadata": {
    "collapsed": true
   },
   "outputs": [],
   "source": [
    "df_train_sample_union = df_train.filter(items=fea_union)\n",
    "df_test_sample_union = df_test.filter(items=fea_union)"
   ]
  },
  {
   "cell_type": "code",
   "execution_count": 95,
   "metadata": {
    "collapsed": true
   },
   "outputs": [],
   "source": [
    "df_test_sample = df_test.filter(items=fea_intersect)"
   ]
  },
  {
   "cell_type": "code",
   "execution_count": 93,
   "metadata": {
    "collapsed": true
   },
   "outputs": [],
   "source": [
    "df_train_sample_tr = tr.fit_transform(df_train_sample.values)"
   ]
  },
  {
   "cell_type": "code",
   "execution_count": 96,
   "metadata": {
    "collapsed": true
   },
   "outputs": [],
   "source": [
    "df_test_sample_tr = tr.fit_transform(df_test_sample.values)"
   ]
  },
  {
   "cell_type": "code",
   "execution_count": 97,
   "metadata": {
    "collapsed": true
   },
   "outputs": [],
   "source": [
    "df_train_sample_un_tr = tr.fit_transform(df_train_sample_union.values)\n",
    "df_test_sample_un_tr = tr.transform(df_test_sample_union.values)"
   ]
  },
  {
   "cell_type": "code",
   "execution_count": 120,
   "metadata": {},
   "outputs": [
    {
     "data": {
      "image/png": "[encoded data removed]",
      "text/plain": [
       "<matplotlib.figure.Figure at 0x3c215770b8>"
      ]
     },
     "metadata": {},
     "output_type": "display_data"
    },
    {
     "data": {
      "image/png": "[encoded data removed]",
      "text/plain": [
       "<matplotlib.figure.Figure at 0x3c21577550>"
      ]
     },
     "metadata": {},
     "output_type": "display_data"
    }
   ],
   "source": [
    "sns.distplot(Y,fit=norm);\n",
    "fig = plt.figure()\n",
    "res = stats.probplot(Y, plot=plt)"
   ]
  },
  {
   "cell_type": "code",
   "execution_count": 98,
   "metadata": {},
   "outputs": [
    {
     "data": {
      "image/png": "[encoded data removed]",
      "text/plain": [
       "<matplotlib.figure.Figure at 0xa6569cce80>"
      ]
     },
     "metadata": {},
     "output_type": "display_data"
    },
    {
     "data": {
      "image/png": "[encoded data removed]",
      "text/plain": [
       "<matplotlib.figure.Figure at 0xa6569ccf28>"
      ]
     },
     "metadata": {},
     "output_type": "display_data"
    }
   ],
   "source": [
    "log_Y = np.log(Y)\n",
    "sns.distplot(log_Y,fit=norm);\n",
    "fig = plt.figure()\n",
    "res = stats.probplot(log_Y, plot=plt)"
   ]
  },
  {
   "cell_type": "code",
   "execution_count": 99,
   "metadata": {
    "collapsed": true
   },
   "outputs": [],
   "source": [
    "from sklearn.ensemble import RandomForestRegressor\n",
    "from sklearn.model_selection import GridSearchCV\n",
    "from sklearn.model_selection import RandomizedSearchCV\n",
    "from sklearn.metrics import make_scorer"
   ]
  },
  {
   "cell_type": "code",
   "execution_count": 130,
   "metadata": {
    "collapsed": true
   },
   "outputs": [],
   "source": [
    "def rmsle(predicted, real):\n",
    "    sum=0.0\n",
    "    for x in range(len(predicted)):\n",
    "        p = np.log(predicted[x]+1)\n",
    "        r = np.log(real[x]+1)\n",
    "        sum = sum + (p - r)**2\n",
    "    return (sum/len(predicted))**0.5"
   ]
  },
  {
   "cell_type": "code",
   "execution_count": 100,
   "metadata": {
    "collapsed": true
   },
   "outputs": [],
   "source": [
    "grid_param_grid = {\"n_estimators\": [200, 500,1000],\n",
    "    \"max_depth\": [3, None],\n",
    "    \"max_features\": [1, 3, 5, 10],\n",
    "    \"min_samples_split\": [2, 5, 10],\n",
    "    \"min_samples_leaf\": [1, 3, 10],\n",
    "    \"bootstrap\": [True, False],\n",
    "    \"criterion\" :['mse','mae']}"
   ]
  },
  {
   "cell_type": "code",
   "execution_count": 144,
   "metadata": {
    "collapsed": true
   },
   "outputs": [],
   "source": [
    "# rmsle_score = make_scorer(rmsle, greater_is_better=False)\n",
    "# grid = GridSearchCV(estimator=model, param_grid=grid_param_grid,cv=5, n_jobs=-1,scoring='rmsle_score')\n",
    "model = RandomForestRegressor(n_jobs=-1,n_estimators=200,random_state=10)\n"
   ]
  },
  {
   "cell_type": "code",
   "execution_count": 167,
   "metadata": {},
   "outputs": [
    {
     "data": {
      "text/plain": [
       "RandomForestRegressor(bootstrap=True, criterion='mse', max_depth=None,\n",
       "           max_features='auto', max_leaf_nodes=None,\n",
       "           min_impurity_decrease=0.0, min_impurity_split=None,\n",
       "           min_samples_leaf=1, min_samples_split=2,\n",
       "           min_weight_fraction_leaf=0.0, n_estimators=200, n_jobs=-1,\n",
       "           oob_score=False, random_state=10, verbose=0, warm_start=False)"
      ]
     },
     "execution_count": 167,
     "metadata": {},
     "output_type": "execute_result"
    }
   ],
   "source": [
    "#grid.fit(df_train_sample_tr,log_Y)\n",
    "from sklearn.model_selection import cross_val_score\n",
    "#rf_scores = cross_val_score(model, df_train_sample_tr, log_Y, cv=5, scoring=rmsle_score)\n",
    "model.fit(df_train_sample_tr,log_Y)"
   ]
  },
  {
   "cell_type": "code",
   "execution_count": 151,
   "metadata": {},
   "outputs": [
    {
     "data": {
      "text/plain": [
       "array([ 14.58813777,  14.58813777,  15.22297332, ...,  14.229784  ,\n",
       "        12.05194487,  15.86299665])"
      ]
     },
     "execution_count": 151,
     "metadata": {},
     "output_type": "execute_result"
    }
   ],
   "source": [
    "log_ypred = model.predict(df_test_sample_tr)"
   ]
  },
  {
   "cell_type": "code",
   "execution_count": 153,
   "metadata": {
    "collapsed": true
   },
   "outputs": [],
   "source": [
    "ypred = np.exp(log_ypred)\n",
    "ID = df_test['ID']"
   ]
  },
  {
   "cell_type": "code",
   "execution_count": 156,
   "metadata": {
    "collapsed": true
   },
   "outputs": [],
   "source": [
    "sub = pd.DataFrame(ID,columns=['ID'])"
   ]
  },
  {
   "cell_type": "code",
   "execution_count": 157,
   "metadata": {
    "collapsed": true
   },
   "outputs": [],
   "source": [
    "sub['target'] = ypred"
   ]
  },
  {
   "cell_type": "code",
   "execution_count": 159,
   "metadata": {
    "collapsed": true
   },
   "outputs": [],
   "source": [
    "sub.to_csv('//tsclient/U/General/Stand/submission_0.1',index=False)"
   ]
  },
  {
   "cell_type": "code",
   "execution_count": 163,
   "metadata": {},
   "outputs": [
    {
     "data": {
      "text/plain": [
       "RandomForestRegressor(bootstrap=True, criterion='mse', max_depth=None,\n",
       "           max_features='auto', max_leaf_nodes=None,\n",
       "           min_impurity_decrease=0.0, min_impurity_split=None,\n",
       "           min_samples_leaf=1, min_samples_split=2,\n",
       "           min_weight_fraction_leaf=0.0, n_estimators=200, n_jobs=-1,\n",
       "           oob_score=False, random_state=10, verbose=0, warm_start=False)"
      ]
     },
     "execution_count": 163,
     "metadata": {},
     "output_type": "execute_result"
    }
   ],
   "source": [
    "model.fit(df_train_sample_un_tr,log_Y)"
   ]
  },
  {
   "cell_type": "code",
   "execution_count": 164,
   "metadata": {
    "collapsed": true
   },
   "outputs": [],
   "source": [
    "log_ypred = model.predict(df_test_sample_un_tr)"
   ]
  },
  {
   "cell_type": "code",
   "execution_count": 165,
   "metadata": {
    "collapsed": true
   },
   "outputs": [],
   "source": [
    "ypred = np.exp(log_ypred)\n",
    "sub = pd.DataFrame(ID,columns=['ID'])\n",
    "sub['target'] = ypred"
   ]
  },
  {
   "cell_type": "code",
   "execution_count": 166,
   "metadata": {
    "collapsed": true
   },
   "outputs": [],
   "source": [
    "sub.to_csv('//tsclient/U/General/Stand/submission_0.2',index=False)"
   ]
  },
  {
   "cell_type": "code",
   "execution_count": null,
   "metadata": {
    "collapsed": true
   },
   "outputs": [],
   "source": [
    "###Cross Validation"
   ]
  },
  {
   "cell_type": "code",
   "execution_count": 170,
   "metadata": {},
   "outputs": [
    {
     "name": "stdout",
     "output_type": "stream",
     "text": [
      "0.317314288518\n"
     ]
    }
   ],
   "source": [
    "print (np.mean(cross_val_score(model, df_train_sample_un_tr, log_Y, cv=10)))"
   ]
  },
  {
   "cell_type": "code",
   "execution_count": 171,
   "metadata": {},
   "outputs": [
    {
     "data": {
      "text/plain": [
       "array([ 0.26044976,  0.32021273,  0.25272783,  0.356732  ,  0.35445935,\n",
       "        0.32916991,  0.35473614,  0.2891805 ,  0.29350528,  0.36196938])"
      ]
     },
     "execution_count": 171,
     "metadata": {},
     "output_type": "execute_result"
    }
   ],
   "source": [
    "cross_val_score(model,df_train_sample_un_tr,log_Y,cv=10)"
   ]
  },
  {
   "cell_type": "code",
   "execution_count": 95,
   "metadata": {},
   "outputs": [
    {
     "data": {
      "text/plain": [
       "1184"
      ]
     },
     "execution_count": 95,
     "metadata": {},
     "output_type": "execute_result"
    }
   ],
   "source": [
    "len(df_train_des['columns'][df_train_des['Corr']>df_train_des['Corr'].quantile(.75)])\n",
    "#len(df_train_des['columns'][df_train_des['Std_Dev'] > df_train_des['Std_Dev'].quantile(.95)])"
   ]
  },
  {
   "cell_type": "code",
   "execution_count": 74,
   "metadata": {},
   "outputs": [
    {
     "data": {
      "text/html": [
       "<div>\n",
       "<style>\n",
       "    .dataframe thead tr:only-child th {\n",
       "        text-align: right;\n",
       "    }\n",
       "\n",
       "    .dataframe thead th {\n",
       "        text-align: left;\n",
       "    }\n",
       "\n",
       "    .dataframe tbody tr th {\n",
       "        vertical-align: top;\n",
       "    }\n",
       "</style>\n",
       "<table border=\"1\" class=\"dataframe\">\n",
       "  <thead>\n",
       "    <tr style=\"text-align: right;\">\n",
       "      <th></th>\n",
       "      <th>columns</th>\n",
       "      <th>count</th>\n",
       "      <th>mean</th>\n",
       "      <th>std</th>\n",
       "      <th>min</th>\n",
       "      <th>25%</th>\n",
       "      <th>50%</th>\n",
       "      <th>75%</th>\n",
       "      <th>max</th>\n",
       "      <th>distinct_vals</th>\n",
       "      <th>Variance</th>\n",
       "      <th>Mean</th>\n",
       "      <th>Std_Dev</th>\n",
       "      <th>Corr</th>\n",
       "    </tr>\n",
       "  </thead>\n",
       "  <tbody>\n",
       "    <tr>\n",
       "      <th>0</th>\n",
       "      <td>48df886f9</td>\n",
       "      <td>4459.0</td>\n",
       "      <td>14654.930101</td>\n",
       "      <td>3.893298e+05</td>\n",
       "      <td>0.0</td>\n",
       "      <td>0.0</td>\n",
       "      <td>0.0</td>\n",
       "      <td>0.0</td>\n",
       "      <td>20000000.0</td>\n",
       "      <td>32</td>\n",
       "      <td>1.515437e+11</td>\n",
       "      <td>14654.930101</td>\n",
       "      <td>3.892862e+05</td>\n",
       "      <td>0.010188</td>\n",
       "    </tr>\n",
       "    <tr>\n",
       "      <th>1</th>\n",
       "      <td>0deb4b6a8</td>\n",
       "      <td>4459.0</td>\n",
       "      <td>1390.894819</td>\n",
       "      <td>6.428302e+04</td>\n",
       "      <td>0.0</td>\n",
       "      <td>0.0</td>\n",
       "      <td>0.0</td>\n",
       "      <td>0.0</td>\n",
       "      <td>4000000.0</td>\n",
       "      <td>5</td>\n",
       "      <td>4.131381e+09</td>\n",
       "      <td>1390.894819</td>\n",
       "      <td>6.427582e+04</td>\n",
       "      <td>0.013805</td>\n",
       "    </tr>\n",
       "    <tr>\n",
       "      <th>2</th>\n",
       "      <td>34b15f335</td>\n",
       "      <td>4459.0</td>\n",
       "      <td>26722.450922</td>\n",
       "      <td>5.699652e+05</td>\n",
       "      <td>0.0</td>\n",
       "      <td>0.0</td>\n",
       "      <td>0.0</td>\n",
       "      <td>0.0</td>\n",
       "      <td>20000000.0</td>\n",
       "      <td>29</td>\n",
       "      <td>3.247875e+11</td>\n",
       "      <td>26722.450922</td>\n",
       "      <td>5.699013e+05</td>\n",
       "      <td>0.014694</td>\n",
       "    </tr>\n",
       "    <tr>\n",
       "      <th>3</th>\n",
       "      <td>a8cb14b00</td>\n",
       "      <td>4459.0</td>\n",
       "      <td>4530.163714</td>\n",
       "      <td>2.359124e+05</td>\n",
       "      <td>0.0</td>\n",
       "      <td>0.0</td>\n",
       "      <td>0.0</td>\n",
       "      <td>0.0</td>\n",
       "      <td>14800000.0</td>\n",
       "      <td>3</td>\n",
       "      <td>5.564218e+10</td>\n",
       "      <td>4530.163714</td>\n",
       "      <td>2.358860e+05</td>\n",
       "      <td>-0.002917</td>\n",
       "    </tr>\n",
       "    <tr>\n",
       "      <th>4</th>\n",
       "      <td>2f0771a37</td>\n",
       "      <td>4459.0</td>\n",
       "      <td>26409.957390</td>\n",
       "      <td>1.514730e+06</td>\n",
       "      <td>0.0</td>\n",
       "      <td>0.0</td>\n",
       "      <td>0.0</td>\n",
       "      <td>0.0</td>\n",
       "      <td>100000000.0</td>\n",
       "      <td>6</td>\n",
       "      <td>2.293893e+12</td>\n",
       "      <td>26409.957390</td>\n",
       "      <td>1.514560e+06</td>\n",
       "      <td>0.016647</td>\n",
       "    </tr>\n",
       "  </tbody>\n",
       "</table>\n",
       "</div>"
      ],
      "text/plain": [
       "     columns   count          mean           std  min  25%  50%  75%  \\\n",
       "0  48df886f9  4459.0  14654.930101  3.893298e+05  0.0  0.0  0.0  0.0   \n",
       "1  0deb4b6a8  4459.0   1390.894819  6.428302e+04  0.0  0.0  0.0  0.0   \n",
       "2  34b15f335  4459.0  26722.450922  5.699652e+05  0.0  0.0  0.0  0.0   \n",
       "3  a8cb14b00  4459.0   4530.163714  2.359124e+05  0.0  0.0  0.0  0.0   \n",
       "4  2f0771a37  4459.0  26409.957390  1.514730e+06  0.0  0.0  0.0  0.0   \n",
       "\n",
       "           max  distinct_vals      Variance          Mean       Std_Dev  \\\n",
       "0   20000000.0             32  1.515437e+11  14654.930101  3.892862e+05   \n",
       "1    4000000.0              5  4.131381e+09   1390.894819  6.427582e+04   \n",
       "2   20000000.0             29  3.247875e+11  26722.450922  5.699013e+05   \n",
       "3   14800000.0              3  5.564218e+10   4530.163714  2.358860e+05   \n",
       "4  100000000.0              6  2.293893e+12  26409.957390  1.514560e+06   \n",
       "\n",
       "       Corr  \n",
       "0  0.010188  \n",
       "1  0.013805  \n",
       "2  0.014694  \n",
       "3 -0.002917  \n",
       "4  0.016647  "
      ]
     },
     "execution_count": 74,
     "metadata": {},
     "output_type": "execute_result"
    }
   ],
   "source": [
    "df_train_des.head()"
   ]
  },
  {
   "cell_type": "code",
   "execution_count": 80,
   "metadata": {},
   "outputs": [
    {
     "data": {
      "text/plain": [
       "26      d5308d8bc\n",
       "33      c330f1a67\n",
       "36      eeac16933\n",
       "57      7df8788e8\n",
       "68      5b91580ee\n",
       "177     6f29fbbc7\n",
       "181     46dafc868\n",
       "231     ae41a98b6\n",
       "259     f416800e9\n",
       "294     6d07828ca\n",
       "298     7ac332a1d\n",
       "301     70ee7950a\n",
       "349     833b35a7c\n",
       "357     2f9969eab\n",
       "360     8b1372217\n",
       "386     68322788b\n",
       "433     2288ac1a6\n",
       "443     dc7f76962\n",
       "470     467044c26\n",
       "471     39ebfbfd9\n",
       "485     9a5ff8c23\n",
       "503     f6fac27c8\n",
       "516     664e2800e\n",
       "523     ae28689a2\n",
       "528     d87dcac58\n",
       "563     4065efbb6\n",
       "565     f944d9d43\n",
       "581     c2c4491d5\n",
       "600     a4346e2e2\n",
       "611     1af366d4f\n",
       "          ...    \n",
       "4448    e5649663e\n",
       "4456    6c16efbb8\n",
       "4464    9118fd5ca\n",
       "4472    ca8d565f1\n",
       "4508    16a5bb8d2\n",
       "4516    fd6347461\n",
       "4518    f5179fb9c\n",
       "4612    97428b646\n",
       "4626    f684b0a96\n",
       "4637    e4b2caa9f\n",
       "4680    2c2d9f267\n",
       "4694    96eb14eaf\n",
       "4704    cb2cb460c\n",
       "4714    86f843927\n",
       "4717    ecd16fc60\n",
       "4723    801c6dc8e\n",
       "4725    f859a25b8\n",
       "4737    ae846f332\n",
       "4756    2252c7403\n",
       "4771    fb9e07326\n",
       "4784    d196ca1fd\n",
       "4834    a8e562e8e\n",
       "4847    eb6bb7ce1\n",
       "4858    5beff147e\n",
       "4860    52b347cdc\n",
       "4880    4600aadcf\n",
       "4890    6fa0b9dab\n",
       "4915    43d70cc4d\n",
       "4929    408021ef8\n",
       "4931    e29d22b59\n",
       "Name: columns, Length: 256, dtype: object"
      ]
     },
     "execution_count": 80,
     "metadata": {},
     "output_type": "execute_result"
    }
   ],
   "source": [
    "df_train_des['columns'][df_train_des['Variance']==0]"
   ]
  },
  {
   "cell_type": "code",
   "execution_count": 89,
   "metadata": {},
   "outputs": [
    {
     "data": {
      "text/plain": [
       "26      d5308d8bc\n",
       "33      c330f1a67\n",
       "36      eeac16933\n",
       "57      7df8788e8\n",
       "68      5b91580ee\n",
       "177     6f29fbbc7\n",
       "181     46dafc868\n",
       "231     ae41a98b6\n",
       "259     f416800e9\n",
       "294     6d07828ca\n",
       "298     7ac332a1d\n",
       "301     70ee7950a\n",
       "349     833b35a7c\n",
       "357     2f9969eab\n",
       "360     8b1372217\n",
       "386     68322788b\n",
       "433     2288ac1a6\n",
       "443     dc7f76962\n",
       "470     467044c26\n",
       "471     39ebfbfd9\n",
       "485     9a5ff8c23\n",
       "503     f6fac27c8\n",
       "516     664e2800e\n",
       "523     ae28689a2\n",
       "528     d87dcac58\n",
       "563     4065efbb6\n",
       "565     f944d9d43\n",
       "581     c2c4491d5\n",
       "600     a4346e2e2\n",
       "611     1af366d4f\n",
       "          ...    \n",
       "4448    e5649663e\n",
       "4456    6c16efbb8\n",
       "4464    9118fd5ca\n",
       "4472    ca8d565f1\n",
       "4508    16a5bb8d2\n",
       "4516    fd6347461\n",
       "4518    f5179fb9c\n",
       "4612    97428b646\n",
       "4626    f684b0a96\n",
       "4637    e4b2caa9f\n",
       "4680    2c2d9f267\n",
       "4694    96eb14eaf\n",
       "4704    cb2cb460c\n",
       "4714    86f843927\n",
       "4717    ecd16fc60\n",
       "4723    801c6dc8e\n",
       "4725    f859a25b8\n",
       "4737    ae846f332\n",
       "4756    2252c7403\n",
       "4771    fb9e07326\n",
       "4784    d196ca1fd\n",
       "4834    a8e562e8e\n",
       "4847    eb6bb7ce1\n",
       "4858    5beff147e\n",
       "4860    52b347cdc\n",
       "4880    4600aadcf\n",
       "4890    6fa0b9dab\n",
       "4915    43d70cc4d\n",
       "4929    408021ef8\n",
       "4931    e29d22b59\n",
       "Name: columns, Length: 256, dtype: object"
      ]
     },
     "execution_count": 89,
     "metadata": {},
     "output_type": "execute_result"
    }
   ],
   "source": [
    "df_train_des['columns'][df_train_des['max']==0]"
   ]
  },
  {
   "cell_type": "code",
   "execution_count": 94,
   "metadata": {},
   "outputs": [
    {
     "data": {
      "text/plain": [
       "(array([ 2783.,   598.,   401.,   157.,   228.,    74.,    55.,    64.,\n",
       "           39.,    60.]),\n",
       " array([  3.00000000e+04,   4.02700000e+06,   8.02400000e+06,\n",
       "          1.20210000e+07,   1.60180000e+07,   2.00150000e+07,\n",
       "          2.40120000e+07,   2.80090000e+07,   3.20060000e+07,\n",
       "          3.60030000e+07,   4.00000000e+07]),\n",
       " <a list of 10 Patch objects>)"
      ]
     },
     "execution_count": 94,
     "metadata": {},
     "output_type": "execute_result"
    },
    {
     "data": {
      "image/png": "[encoded data removed]",
      "text/plain": [
       "<matplotlib.figure.Figure at 0x8700cd87b8>"
      ]
     },
     "metadata": {},
     "output_type": "display_data"
    }
   ],
   "source": [
    "plt.hist(Y)"
   ]
  },
  {
   "cell_type": "code",
   "execution_count": 96,
   "metadata": {},
   "outputs": [
    {
     "data": {
      "text/plain": [
       "(array([ 197.,  192.,  282.,  387.,  510.,  656.,  635.,  606.,  542.,  452.]),\n",
       " array([ 10.30895266,  11.0284964 ,  11.74804013,  12.46758387,\n",
       "         13.1871276 ,  13.90667134,  14.62621507,  15.34575881,\n",
       "         16.06530254,  16.78484628,  17.50439001]),\n",
       " <a list of 10 Patch objects>)"
      ]
     },
     "execution_count": 96,
     "metadata": {},
     "output_type": "execute_result"
    },
    {
     "data": {
      "image/png": "[encoded data removed]",
      "text/plain": [
       "<matplotlib.figure.Figure at 0x8700d32f98>"
      ]
     },
     "metadata": {},
     "output_type": "display_data"
    }
   ],
   "source": [
    "plt.hist(np.log(Y))"
   ]
  },
  {
   "cell_type": "code",
   "execution_count": 97,
   "metadata": {
    "collapsed": true
   },
   "outputs": [],
   "source": [
    "colsToRemove=[]\n",
    "for c in df_train.columns:\n",
    "    if c!='ID' and c!='target':\n",
    "        if df_train[c].std()==0:\n",
    "            colsToRemove.append(c)\n",
    "            "
   ]
  },
  {
   "cell_type": "code",
   "execution_count": 99,
   "metadata": {},
   "outputs": [
    {
     "name": "stdout",
     "output_type": "stream",
     "text": [
      "The number of static features are 256\n"
     ]
    }
   ],
   "source": [
    "print(\"The number of static features are {0}\".format(len(colsToRemove)))"
   ]
  },
  {
   "cell_type": "code",
   "execution_count": 101,
   "metadata": {},
   "outputs": [
    {
     "data": {
      "text/plain": [
       "(4459, 4991)"
      ]
     },
     "execution_count": 101,
     "metadata": {},
     "output_type": "execute_result"
    }
   ],
   "source": [
    "df_train.shape"
   ]
  },
  {
   "cell_type": "code",
   "execution_count": 107,
   "metadata": {
    "collapsed": true
   },
   "outputs": [],
   "source": [
    "df_train.drop(labels=colsToRemove,axis=1,inplace=True)"
   ]
  },
  {
   "cell_type": "code",
   "execution_count": 108,
   "metadata": {},
   "outputs": [
    {
     "data": {
      "text/plain": [
       "(4459, 4735)"
      ]
     },
     "execution_count": 108,
     "metadata": {},
     "output_type": "execute_result"
    }
   ],
   "source": [
    "df_train.shape"
   ]
  },
  {
   "cell_type": "code",
   "execution_count": 114,
   "metadata": {},
   "outputs": [
    {
     "name": "stdout",
     "output_type": "stream",
     "text": [
      "['34ceb0081', '8d57e2749', '168b3e5bc', 'a765da8bc', 'acc5b709d']\n",
      "Wall time: 19min 34s\n"
     ]
    }
   ],
   "source": [
    "%%time\n",
    "def duplicate_columns(frame):\n",
    "    groups = frame.columns.to_series().groupby(frame.dtypes).groups\n",
    "    dups = []\n",
    "\n",
    "    for t, v in groups.items():\n",
    "\n",
    "        cs = frame[v].columns\n",
    "        vs = frame[v]\n",
    "        lcs = len(cs)\n",
    "\n",
    "        for i in range(lcs):\n",
    "            ia = vs.iloc[:,i].values\n",
    "            for j in range(i+1, lcs):\n",
    "                ja = vs.iloc[:,j].values\n",
    "                if np.array_equal(ia, ja):\n",
    "                    dups.append(cs[i])\n",
    "                    break\n",
    "\n",
    "    return dups\n",
    "\n",
    "colsToRemove = duplicate_columns(df_train)\n",
    "print(colsToRemove)"
   ]
  },
  {
   "cell_type": "code",
   "execution_count": 115,
   "metadata": {
    "collapsed": true
   },
   "outputs": [],
   "source": [
    "df_train.drop(colsToRemove, axis=1, inplace=True) "
   ]
  },
  {
   "cell_type": "code",
   "execution_count": 116,
   "metadata": {
    "collapsed": true
   },
   "outputs": [],
   "source": [
    "def drop_sparse(train, test):\n",
    "    flist = [x for x in train.columns if not x in ['ID','target']]\n",
    "    for f in flist:\n",
    "        if len(np.unique(train[f]))<2:\n",
    "            train.drop(f, axis=1, inplace=True)\n",
    "            test.drop(f, axis=1, inplace=True)\n",
    "    return train, test"
   ]
  },
  {
   "cell_type": "code",
   "execution_count": 188,
   "metadata": {
    "collapsed": true
   },
   "outputs": [],
   "source": [
    "del pred_1"
   ]
  },
  {
   "cell_type": "code",
   "execution_count": 128,
   "metadata": {
    "collapsed": true
   },
   "outputs": [],
   "source": [
    "pred_1 = df_train[df_train.columns[:250]]"
   ]
  },
  {
   "cell_type": "code",
   "execution_count": 135,
   "metadata": {
    "collapsed": true
   },
   "outputs": [],
   "source": [
    "pred_1_col_names = pred_1.columns"
   ]
  },
  {
   "cell_type": "code",
   "execution_count": 129,
   "metadata": {
    "collapsed": true
   },
   "outputs": [],
   "source": [
    "model_1 = RandomForestRegressor(n_jobs=-1,n_estimators=2000,random_state=10,max_depth=2)"
   ]
  },
  {
   "cell_type": "code",
   "execution_count": 130,
   "metadata": {},
   "outputs": [
    {
     "data": {
      "text/plain": [
       "RandomForestRegressor(bootstrap=True, criterion='mse', max_depth=2,\n",
       "           max_features='auto', max_leaf_nodes=None,\n",
       "           min_impurity_decrease=0.0, min_impurity_split=None,\n",
       "           min_samples_leaf=1, min_samples_split=2,\n",
       "           min_weight_fraction_leaf=0.0, n_estimators=2000, n_jobs=-1,\n",
       "           oob_score=False, random_state=10, verbose=0, warm_start=False)"
      ]
     },
     "execution_count": 130,
     "metadata": {},
     "output_type": "execute_result"
    }
   ],
   "source": [
    "model_1.fit(pred_1,log_Y)"
   ]
  },
  {
   "cell_type": "code",
   "execution_count": 154,
   "metadata": {},
   "outputs": [
    {
     "data": {
      "text/plain": [
       "pandas.core.frame.DataFrame"
      ]
     },
     "execution_count": 154,
     "metadata": {},
     "output_type": "execute_result"
    }
   ],
   "source": [
    "feats={}\n",
    "df_fea_imp = pd.DataFrame(columns=['Feature_Name','Imp'])\n",
    "for feature,importance in zip(pred_1_col_names,model_1.feature_importances_):\n",
    "    feats[feature] = importance\n",
    "importances = pd.DataFrame.from_dict(feats, orient='index').reset_index().rename(columns={'index':'Feature',0: 'Gini-importance'})\n",
    "type(importances)"
   ]
  },
  {
   "cell_type": "code",
   "execution_count": 159,
   "metadata": {
    "collapsed": true
   },
   "outputs": [],
   "source": [
    "feats={}\n",
    "df_fea_imp = pd.DataFrame(columns=['Feature_Name','Imp'])\n",
    "for feature,importance in zip(pred_1_col_names,model_1.feature_importances_):\n",
    "    feats[feature] = importance\n",
    "importances = pd.DataFrame.from_dict(feats, orient='index').reset_index().rename(columns={'index':'Feature_Name',0: 'Imp'})\n",
    "df_fea_imp = df_fea_imp.append(importances)"
   ]
  },
  {
   "cell_type": "code",
   "execution_count": 158,
   "metadata": {},
   "outputs": [
    {
     "data": {
      "text/html": [
       "<div>\n",
       "<style>\n",
       "    .dataframe thead tr:only-child th {\n",
       "        text-align: right;\n",
       "    }\n",
       "\n",
       "    .dataframe thead th {\n",
       "        text-align: left;\n",
       "    }\n",
       "\n",
       "    .dataframe tbody tr th {\n",
       "        vertical-align: top;\n",
       "    }\n",
       "</style>\n",
       "<table border=\"1\" class=\"dataframe\">\n",
       "  <thead>\n",
       "    <tr style=\"text-align: right;\">\n",
       "      <th></th>\n",
       "      <th>index</th>\n",
       "      <th>0</th>\n",
       "    </tr>\n",
       "  </thead>\n",
       "  <tbody>\n",
       "    <tr>\n",
       "      <th>0</th>\n",
       "      <td>48df886f9</td>\n",
       "      <td>0.000276</td>\n",
       "    </tr>\n",
       "    <tr>\n",
       "      <th>1</th>\n",
       "      <td>0deb4b6a8</td>\n",
       "      <td>0.931560</td>\n",
       "    </tr>\n",
       "    <tr>\n",
       "      <th>2</th>\n",
       "      <td>34b15f335</td>\n",
       "      <td>0.000290</td>\n",
       "    </tr>\n",
       "    <tr>\n",
       "      <th>3</th>\n",
       "      <td>a8cb14b00</td>\n",
       "      <td>0.011468</td>\n",
       "    </tr>\n",
       "    <tr>\n",
       "      <th>4</th>\n",
       "      <td>2f0771a37</td>\n",
       "      <td>0.000000</td>\n",
       "    </tr>\n",
       "    <tr>\n",
       "      <th>5</th>\n",
       "      <td>30347e683</td>\n",
       "      <td>0.000000</td>\n",
       "    </tr>\n",
       "    <tr>\n",
       "      <th>6</th>\n",
       "      <td>d08d1fbe3</td>\n",
       "      <td>0.047659</td>\n",
       "    </tr>\n",
       "    <tr>\n",
       "      <th>7</th>\n",
       "      <td>6ee66e115</td>\n",
       "      <td>0.008747</td>\n",
       "    </tr>\n",
       "    <tr>\n",
       "      <th>8</th>\n",
       "      <td>20aa07010</td>\n",
       "      <td>0.000000</td>\n",
       "    </tr>\n",
       "    <tr>\n",
       "      <th>9</th>\n",
       "      <td>dc5a8f1d8</td>\n",
       "      <td>0.000000</td>\n",
       "    </tr>\n",
       "  </tbody>\n",
       "</table>\n",
       "</div>"
      ],
      "text/plain": [
       "       index         0\n",
       "0  48df886f9  0.000276\n",
       "1  0deb4b6a8  0.931560\n",
       "2  34b15f335  0.000290\n",
       "3  a8cb14b00  0.011468\n",
       "4  2f0771a37  0.000000\n",
       "5  30347e683  0.000000\n",
       "6  d08d1fbe3  0.047659\n",
       "7  6ee66e115  0.008747\n",
       "8  20aa07010  0.000000\n",
       "9  dc5a8f1d8  0.000000"
      ]
     },
     "execution_count": 158,
     "metadata": {},
     "output_type": "execute_result"
    }
   ],
   "source": [
    "df_fea_imp"
   ]
  },
  {
   "cell_type": "code",
   "execution_count": 243,
   "metadata": {
    "collapsed": true
   },
   "outputs": [],
   "source": [
    "df_fea_imp = pd.DataFrame(columns=['Feature_Name','Imp'])"
   ]
  },
  {
   "cell_type": "code",
   "execution_count": 244,
   "metadata": {
    "collapsed": true
   },
   "outputs": [],
   "source": [
    "df_fea_imp['Feature_Name']=pred_1.columns"
   ]
  },
  {
   "cell_type": "code",
   "execution_count": 245,
   "metadata": {
    "collapsed": true
   },
   "outputs": [],
   "source": [
    "df_fea_imp['Imp'] = fea_imp"
   ]
  },
  {
   "cell_type": "code",
   "execution_count": 247,
   "metadata": {
    "collapsed": true
   },
   "outputs": [],
   "source": [
    "df_fea_imp_top5 = df_fea_imp.sort_values('Imp',ascending=False)[:5]"
   ]
  },
  {
   "cell_type": "code",
   "execution_count": 249,
   "metadata": {
    "collapsed": true
   },
   "outputs": [],
   "source": [
    "pred_2 = df_train[df_train.columns[1:251]]"
   ]
  },
  {
   "cell_type": "code",
   "execution_count": 250,
   "metadata": {},
   "outputs": [
    {
     "data": {
      "text/plain": [
       "RandomForestRegressor(bootstrap=True, criterion='mse', max_depth=2,\n",
       "           max_features='auto', max_leaf_nodes=None,\n",
       "           min_impurity_decrease=0.0, min_impurity_split=None,\n",
       "           min_samples_leaf=1, min_samples_split=2,\n",
       "           min_weight_fraction_leaf=0.0, n_estimators=2000, n_jobs=-1,\n",
       "           oob_score=False, random_state=10, verbose=0, warm_start=False)"
      ]
     },
     "execution_count": 250,
     "metadata": {},
     "output_type": "execute_result"
    }
   ],
   "source": [
    "model_1.fit(pred_2,log_Y)"
   ]
  },
  {
   "cell_type": "code",
   "execution_count": 251,
   "metadata": {
    "collapsed": true
   },
   "outputs": [],
   "source": [
    "fea_imp = model_1.feature_importances_"
   ]
  },
  {
   "cell_type": "code",
   "execution_count": 252,
   "metadata": {
    "collapsed": true
   },
   "outputs": [],
   "source": [
    "del df_fea_imp"
   ]
  },
  {
   "cell_type": "code",
   "execution_count": 253,
   "metadata": {
    "collapsed": true
   },
   "outputs": [],
   "source": [
    "df_fea_imp = pd.DataFrame(columns=['Feature_Name','Imp'])\n",
    "df_fea_imp['Feature_Name']=pred_1.columns\n",
    "df_fea_imp['Imp'] = fea_imp"
   ]
  },
  {
   "cell_type": "code",
   "execution_count": 257,
   "metadata": {
    "collapsed": true
   },
   "outputs": [],
   "source": [
    "df_fea_imp_top5 = df_fea_imp_top5.append(df_fea_imp.sort_values('Imp',ascending=False)[:5])"
   ]
  },
  {
   "cell_type": "code",
   "execution_count": 261,
   "metadata": {
    "collapsed": true
   },
   "outputs": [],
   "source": [
    "i = 0\n",
    "j = 500\n",
    "model_1 = RandomForestRegressor(n_jobs=-1,n_estimators=2000,random_state=10,max_depth=2)\n",
    "df_fea_imp_top5_v2 = pd.DataFrame(columns=['Feature_Name','Imp'])"
   ]
  },
  {
   "cell_type": "code",
   "execution_count": null,
   "metadata": {
    "collapsed": true
   },
   "outputs": [],
   "source": [
    "pred = df_train[df_train.columns[i:j]]\n",
    "model_1.fit(pred,log_Y)\n",
    "fea_imp = model_1.feature_importances_\n",
    "df_fea_imp = pd.DataFrame(columns=['Feature_Name','Imp'])\n",
    "df_fea_imp['Feature_Name']=pred_1.columns\n",
    "df_fea_imp['Imp'] = fea_imp\n",
    "df_fea_imp_top5_v2 = df_fea_imp_top5.append(df_fea_imp.sort_values('Imp',ascending=False)[:5])\n",
    "del df_fea_imp"
   ]
  },
  {
   "cell_type": "code",
   "execution_count": 267,
   "metadata": {
    "collapsed": true
   },
   "outputs": [],
   "source": [
    "from itertools import islice\n",
    "\n",
    "def split_every(n, iterable):\n",
    "    i = iter(iterable)\n",
    "    piece = list(islice(i, n))\n",
    "    while piece:\n",
    "        yield piece\n",
    "        piece = list(islice(i, n))"
   ]
  },
  {
   "cell_type": "code",
   "execution_count": 268,
   "metadata": {},
   "outputs": [
    {
     "data": {
      "text/plain": [
       "[[0, 1, 2, 3, 4], [5, 6, 7, 8]]"
      ]
     },
     "execution_count": 268,
     "metadata": {},
     "output_type": "execute_result"
    }
   ],
   "source": [
    "list(split_every(5, range(9)))"
   ]
  },
  {
   "cell_type": "code",
   "execution_count": 270,
   "metadata": {
    "collapsed": true
   },
   "outputs": [],
   "source": [
    "import itertools\n",
    "def windows(iterable, length=2, overlap=0):\n",
    "    it = iter(iterable)\n",
    "    results = list(itertools.islice(it, length))\n",
    "    while len(results) == length:\n",
    "        yield results\n",
    "        results = results[length-overlap:]\n",
    "        results.extend(itertools.islice(it, length-overlap))\n",
    "    if results:\n",
    "        yield results"
   ]
  },
  {
   "cell_type": "code",
   "execution_count": 276,
   "metadata": {
    "collapsed": true
   },
   "outputs": [],
   "source": [
    "it = iter(list(df_train.columns[:5]))"
   ]
  },
  {
   "cell_type": "code",
   "execution_count": 280,
   "metadata": {},
   "outputs": [
    {
     "data": {
      "text/plain": [
       "['48df886f9', '0deb4b6a8', '34b15f335', 'a8cb14b00', '2f0771a37']"
      ]
     },
     "execution_count": 280,
     "metadata": {},
     "output_type": "execute_result"
    }
   ],
   "source": [
    "list(df_train.columns[:5])"
   ]
  },
  {
   "cell_type": "code",
   "execution_count": 278,
   "metadata": {},
   "outputs": [
    {
     "data": {
      "text/plain": [
       "['48df886f9', '0deb4b6a8', '34b15f335']"
      ]
     },
     "execution_count": 278,
     "metadata": {},
     "output_type": "execute_result"
    }
   ],
   "source": [
    "list(itertools.islice(it,3))"
   ]
  },
  {
   "cell_type": "code",
   "execution_count": 37,
   "metadata": {
    "collapsed": true
   },
   "outputs": [],
   "source": [
    "prd = df_train.columns[0:499]"
   ]
  },
  {
   "cell_type": "code",
   "execution_count": 38,
   "metadata": {
    "collapsed": true
   },
   "outputs": [],
   "source": [
    "from numpy.lib.stride_tricks import as_strided"
   ]
  },
  {
   "cell_type": "code",
   "execution_count": 39,
   "metadata": {},
   "outputs": [
    {
     "data": {
      "text/plain": [
       "499"
      ]
     },
     "execution_count": 39,
     "metadata": {},
     "output_type": "execute_result"
    }
   ],
   "source": [
    "prd.size"
   ]
  },
  {
   "cell_type": "code",
   "execution_count": 56,
   "metadata": {
    "collapsed": true
   },
   "outputs": [],
   "source": [
    "nrows = ((prd.size-10)//2)+1\n",
    "n = prd.strides[0]"
   ]
  },
  {
   "cell_type": "code",
   "execution_count": 58,
   "metadata": {
    "collapsed": true
   },
   "outputs": [],
   "source": [
    "S = 1\n",
    "L = 10"
   ]
  },
  {
   "cell_type": "code",
   "execution_count": 51,
   "metadata": {},
   "outputs": [
    {
     "data": {
      "text/plain": [
       "165"
      ]
     },
     "execution_count": 51,
     "metadata": {},
     "output_type": "execute_result"
    }
   ],
   "source": [
    "nrows"
   ]
  },
  {
   "cell_type": "code",
   "execution_count": 52,
   "metadata": {},
   "outputs": [
    {
     "data": {
      "text/plain": [
       "499"
      ]
     },
     "execution_count": 52,
     "metadata": {},
     "output_type": "execute_result"
    }
   ],
   "source": [
    "prd.size"
   ]
  },
  {
   "cell_type": "code",
   "execution_count": 60,
   "metadata": {},
   "outputs": [
    {
     "data": {
      "text/plain": [
       "245"
      ]
     },
     "execution_count": 60,
     "metadata": {},
     "output_type": "execute_result"
    }
   ],
   "source": [
    "np.lib.stride_tricks.as_strided(prd,shape=(nrows,L),strides=(S*n,n))"
   ]
  },
  {
   "cell_type": "code",
   "execution_count": 61,
   "metadata": {
    "collapsed": true
   },
   "outputs": [],
   "source": [
    "prd_1 = df_train.columns[0:49]"
   ]
  },
  {
   "cell_type": "code",
   "execution_count": 104,
   "metadata": {
    "collapsed": true
   },
   "outputs": [],
   "source": [
    "nrows = ((prd_1.size-10)//5)+1\n",
    "n = prd_1.strides[0]"
   ]
  },
  {
   "cell_type": "code",
   "execution_count": 108,
   "metadata": {},
   "outputs": [
    {
     "data": {
      "text/plain": [
       "8"
      ]
     },
     "execution_count": 108,
     "metadata": {},
     "output_type": "execute_result"
    }
   ],
   "source": [
    "nrows"
   ]
  },
  {
   "cell_type": "code",
   "execution_count": 105,
   "metadata": {
    "collapsed": true
   },
   "outputs": [],
   "source": [
    "predictors = np.lib.stride_tricks.as_strided(prd_1,shape=(nrows,L),strides=(S*n,n))"
   ]
  },
  {
   "cell_type": "code",
   "execution_count": 186,
   "metadata": {},
   "outputs": [
    {
     "data": {
      "text/plain": [
       "{'0deb4b6a8',\n",
       " '11d86fa6a',\n",
       " '20aa07010',\n",
       " '2f0771a37',\n",
       " '30347e683',\n",
       " '34b15f335',\n",
       " '4681de4fd',\n",
       " '48df886f9',\n",
       " '6ee66e115',\n",
       " '77c9823f2',\n",
       " '8d6c2a0b2',\n",
       " '96f83a237',\n",
       " 'a8cb14b00',\n",
       " 'adf119b9a',\n",
       " 'cff75dd09',\n",
       " 'd08d1fbe3',\n",
       " 'dc5a8f1d8'}"
      ]
     },
     "execution_count": 186,
     "metadata": {},
     "output_type": "execute_result"
    }
   ],
   "source": [
    "set(list(predictors.flat))"
   ]
  },
  {
   "cell_type": "code",
   "execution_count": 125,
   "metadata": {
    "collapsed": true,
    "scrolled": true
   },
   "outputs": [],
   "source": [
    "fea_imp=[]\n",
    "model_1 = RandomForestRegressor(n_jobs=-1,n_estimators=2000,random_state=10,max_depth=2)\n",
    "df_fea_imp_top5_v2 = pd.DataFrame(columns=['Iter','Feature_Name','Imp'])\n",
    "i = 1"
   ]
  },
  {
   "cell_type": "code",
   "execution_count": 121,
   "metadata": {},
   "outputs": [
    {
     "data": {
      "text/html": [
       "<div>\n",
       "<style>\n",
       "    .dataframe thead tr:only-child th {\n",
       "        text-align: right;\n",
       "    }\n",
       "\n",
       "    .dataframe thead th {\n",
       "        text-align: left;\n",
       "    }\n",
       "\n",
       "    .dataframe tbody tr th {\n",
       "        vertical-align: top;\n",
       "    }\n",
       "</style>\n",
       "<table border=\"1\" class=\"dataframe\">\n",
       "  <thead>\n",
       "    <tr style=\"text-align: right;\">\n",
       "      <th></th>\n",
       "      <th>48df886f9</th>\n",
       "      <th>0deb4b6a8</th>\n",
       "      <th>34b15f335</th>\n",
       "      <th>a8cb14b00</th>\n",
       "      <th>2f0771a37</th>\n",
       "      <th>30347e683</th>\n",
       "      <th>d08d1fbe3</th>\n",
       "      <th>6ee66e115</th>\n",
       "      <th>20aa07010</th>\n",
       "      <th>dc5a8f1d8</th>\n",
       "    </tr>\n",
       "  </thead>\n",
       "  <tbody>\n",
       "    <tr>\n",
       "      <th>0</th>\n",
       "      <td>0.0</td>\n",
       "      <td>0</td>\n",
       "      <td>0.0</td>\n",
       "      <td>0</td>\n",
       "      <td>0</td>\n",
       "      <td>0</td>\n",
       "      <td>0</td>\n",
       "      <td>0</td>\n",
       "      <td>0.0</td>\n",
       "      <td>0.0</td>\n",
       "    </tr>\n",
       "    <tr>\n",
       "      <th>1</th>\n",
       "      <td>0.0</td>\n",
       "      <td>0</td>\n",
       "      <td>0.0</td>\n",
       "      <td>0</td>\n",
       "      <td>0</td>\n",
       "      <td>0</td>\n",
       "      <td>0</td>\n",
       "      <td>0</td>\n",
       "      <td>2200000.0</td>\n",
       "      <td>0.0</td>\n",
       "    </tr>\n",
       "    <tr>\n",
       "      <th>2</th>\n",
       "      <td>0.0</td>\n",
       "      <td>0</td>\n",
       "      <td>0.0</td>\n",
       "      <td>0</td>\n",
       "      <td>0</td>\n",
       "      <td>0</td>\n",
       "      <td>0</td>\n",
       "      <td>0</td>\n",
       "      <td>0.0</td>\n",
       "      <td>0.0</td>\n",
       "    </tr>\n",
       "    <tr>\n",
       "      <th>3</th>\n",
       "      <td>0.0</td>\n",
       "      <td>0</td>\n",
       "      <td>0.0</td>\n",
       "      <td>0</td>\n",
       "      <td>0</td>\n",
       "      <td>0</td>\n",
       "      <td>0</td>\n",
       "      <td>0</td>\n",
       "      <td>0.0</td>\n",
       "      <td>0.0</td>\n",
       "    </tr>\n",
       "    <tr>\n",
       "      <th>4</th>\n",
       "      <td>0.0</td>\n",
       "      <td>0</td>\n",
       "      <td>0.0</td>\n",
       "      <td>0</td>\n",
       "      <td>0</td>\n",
       "      <td>0</td>\n",
       "      <td>0</td>\n",
       "      <td>0</td>\n",
       "      <td>2000000.0</td>\n",
       "      <td>0.0</td>\n",
       "    </tr>\n",
       "  </tbody>\n",
       "</table>\n",
       "</div>"
      ],
      "text/plain": [
       "   48df886f9  0deb4b6a8  34b15f335  a8cb14b00  2f0771a37  30347e683  \\\n",
       "0        0.0          0        0.0          0          0          0   \n",
       "1        0.0          0        0.0          0          0          0   \n",
       "2        0.0          0        0.0          0          0          0   \n",
       "3        0.0          0        0.0          0          0          0   \n",
       "4        0.0          0        0.0          0          0          0   \n",
       "\n",
       "   d08d1fbe3  6ee66e115  20aa07010  dc5a8f1d8  \n",
       "0          0          0        0.0        0.0  \n",
       "1          0          0  2200000.0        0.0  \n",
       "2          0          0        0.0        0.0  \n",
       "3          0          0        0.0        0.0  \n",
       "4          0          0  2000000.0        0.0  "
      ]
     },
     "execution_count": 121,
     "metadata": {},
     "output_type": "execute_result"
    }
   ],
   "source": [
    "df_train[predictors[0]].head()"
   ]
  },
  {
   "cell_type": "code",
   "execution_count": 160,
   "metadata": {
    "collapsed": true
   },
   "outputs": [],
   "source": [
    "df_fea_imp = pd.DataFrame(columns=['Feature_Name','Imp'])\n",
    "feats={}\n",
    "for pred in predictors:\n",
    "    model_1.fit(df_train[pred],log_Y)\n",
    "    pred_1_col_names = df_train[pred].columns\n",
    "    for feature,importance in zip(pred_1_col_names,model_1.feature_importances_):\n",
    "        feats[feature] = importance\n",
    "    importances = pd.DataFrame.from_dict(feats, orient='index').reset_index().rename(columns={'index':'Feature_Name',0: 'Imp'})\n",
    "    df_fea_imp = df_fea_imp.append(importances)    "
   ]
  },
  {
   "cell_type": "code",
   "execution_count": 283,
   "metadata": {
    "collapsed": true
   },
   "outputs": [],
   "source": [
    "df_fea_imp_sorted_sample = df_fea_imp.groupby(['Feature_Name'])['Imp'].mean().sort_values(ascending=False).reset_index()\n",
    "df_fea_imp_sorted_sample.to_csv('//tsclient/U/General/Stand/fea_imp_sample.csv',index=False)"
   ]
  },
  {
   "cell_type": "code",
   "execution_count": 262,
   "metadata": {
    "collapsed": true
   },
   "outputs": [],
   "source": [
    "S = 1 # Stride length\n",
    "L = 100\n",
    "prd_all = df_train.columns\n",
    "nrows_all = ((prd_all.size-100)//1)+1\n",
    "n = prd_all.strides[0]"
   ]
  },
  {
   "cell_type": "code",
   "execution_count": 263,
   "metadata": {},
   "outputs": [
    {
     "data": {
      "text/plain": [
       "4991"
      ]
     },
     "execution_count": 263,
     "metadata": {},
     "output_type": "execute_result"
    }
   ],
   "source": [
    "prd_all.size"
   ]
  },
  {
   "cell_type": "code",
   "execution_count": 269,
   "metadata": {},
   "outputs": [
    {
     "data": {
      "text/plain": [
       "4892"
      ]
     },
     "execution_count": 269,
     "metadata": {},
     "output_type": "execute_result"
    }
   ],
   "source": [
    "((prd_all.size-100)//1)+1"
   ]
  },
  {
   "cell_type": "code",
   "execution_count": 265,
   "metadata": {},
   "outputs": [
    {
     "data": {
      "text/plain": [
       "(8,)"
      ]
     },
     "execution_count": 265,
     "metadata": {},
     "output_type": "execute_result"
    }
   ],
   "source": [
    "prd_all.strides"
   ]
  },
  {
   "cell_type": "code",
   "execution_count": 238,
   "metadata": {},
   "outputs": [
    {
     "data": {
      "text/plain": [
       "pandas.core.indexes.base.Index"
      ]
     },
     "execution_count": 238,
     "metadata": {},
     "output_type": "execute_result"
    }
   ],
   "source": [
    "type(prd_all)"
   ]
  },
  {
   "cell_type": "code",
   "execution_count": 266,
   "metadata": {
    "collapsed": true
   },
   "outputs": [],
   "source": [
    "predictors_all = np.lib.stride_tricks.as_strided(prd_all,shape=(nrows_all,L),strides=(S*n,n))"
   ]
  },
  {
   "cell_type": "code",
   "execution_count": 267,
   "metadata": {},
   "outputs": [
    {
     "data": {
      "text/plain": [
       "4892"
      ]
     },
     "execution_count": 267,
     "metadata": {},
     "output_type": "execute_result"
    }
   ],
   "source": [
    "len(predictors_all)"
   ]
  },
  {
   "cell_type": "code",
   "execution_count": 268,
   "metadata": {},
   "outputs": [
    {
     "data": {
      "text/plain": [
       "4991"
      ]
     },
     "execution_count": 268,
     "metadata": {},
     "output_type": "execute_result"
    }
   ],
   "source": [
    "len(set(predictors_all.flat))"
   ]
  },
  {
   "cell_type": "code",
   "execution_count": 270,
   "metadata": {},
   "outputs": [
    {
     "data": {
      "text/plain": [
       "array(['e369704a1', '7df9efba5', 'f5723deba', '7fd35c77a', '9d9e518a3',\n",
       "       '99258443a', '1d81e197a', '831a9e087', 'de471ea65', '8781e4b91',\n",
       "       'dc5ba677f', 'df3ac443c', '79203fbab', 'f1ab19e7a', '300398f1c',\n",
       "       '6eefca12e', '22bf44001', '19915a6d3', '20a325694', '8afae1db8',\n",
       "       'c283d4609', '11114a47a', 'b961b0d59', '103b8a033', '43d70cc4d',\n",
       "       '09184c121', '08c089775', '572d36d31', '1de239e78', 'd7568383a',\n",
       "       '8d7bfb911', '5964f1856', '6c7bf200b', 'b3058e9ba', '108fe14ef',\n",
       "       'dcfcddf16', '5fad07863', 'b904b8345', '408021ef8', 'ef30f6be5',\n",
       "       'e29d22b59', 'a19b05919', 'e849e3ae0', '05f11f48f', '49f11e712',\n",
       "       'c959d372a', 'b625fe55a', 'f642213a6', '6df033973', '1834f29f5',\n",
       "       '31e434a58', 'e431708ff', 'fb42abc0d', '88263a031', 'ab7764ead',\n",
       "       'a380d5301', '46ee7f2c8', '2e1287e41', '23310aa6f', '9dc52515a',\n",
       "       '969caa87a', '00302fe51', '1189ee335', 'ca04a07ca', 'f6f15ffa5',\n",
       "       '841704460', 'ea5ed6ff7', 'b1bb8eac3', '8132d18b8', 'c24ea6548',\n",
       "       'cdfc2b069', '2a879b4f7', '6b119d8ce', '98dea9e42', '9f2471031',\n",
       "       '88458cb21', 'f40da20f4', '7ad6b38bd', 'c901e7df1', '8f55955dc',\n",
       "       '85dcc913d', '5ca0b9b0c', 'eab8abf7a', '8d8bffbae', '2a1f6c7f9',\n",
       "       '9437d8b64', '5831f4c76', '2e84e09c5', 'd45fd5508', 'a165f5761',\n",
       "       '3ecc09859', '9281abeea', '8675bec0b', '3a13ed79a', 'f677d4d13',\n",
       "       '71b203550', '137efaa80', 'fb36b89d9', '7e293fbaf', '9fc776466'], dtype=object)"
      ]
     },
     "execution_count": 270,
     "metadata": {},
     "output_type": "execute_result"
    }
   ],
   "source": [
    "predictors_all[4891]"
   ]
  },
  {
   "cell_type": "code",
   "execution_count": 272,
   "metadata": {
    "collapsed": true
   },
   "outputs": [],
   "source": [
    "df_fea_imp_all = pd.DataFrame(columns=['Feature_Name','Imp'])\n",
    "feats_all={}\n",
    "for pred in predictors_all:\n",
    "    model_1.fit(df_train[pred],log_Y)\n",
    "    pred_1_col_names = df_train[pred].columns\n",
    "    for feature,importance in zip(pred_1_col_names,model_1.feature_importances_):\n",
    "        feats_all[feature] = importance\n",
    "    importances = pd.DataFrame.from_dict(feats_all, orient='index').reset_index().rename(columns={'index':'Feature_Name',0: 'Imp'})\n",
    "    df_fea_imp_all = df_fea_imp_all.append(importances)    "
   ]
  },
  {
   "cell_type": "code",
   "execution_count": 282,
   "metadata": {
    "collapsed": true
   },
   "outputs": [],
   "source": [
    "#df_fea_imp_all\n",
    "df_fea_imp_sorted_all = df_fea_imp_all.groupby(['Feature_Name'])['Imp'].mean().sort_values(ascending=False).reset_index()\n",
    "df_fea_imp_sorted_all.to_csv('//tsclient/U/General/Stand/fea_imp.csv',index=False)"
   ]
  },
  {
   "cell_type": "code",
   "execution_count": 287,
   "metadata": {
    "collapsed": true
   },
   "outputs": [],
   "source": [
    "#df_fea_imp_all\n",
    "df_fea_imp_sorted_all_med = df_fea_imp_all.groupby(['Feature_Name'])['Imp'].median().sort_values(ascending=False).reset_index()\n",
    "df_fea_imp_sorted_all_med.to_csv('//tsclient/U/General/Stand/fea_imp_median.csv',index=False)"
   ]
  },
  {
   "cell_type": "code",
   "execution_count": 286,
   "metadata": {
    "collapsed": true
   },
   "outputs": [],
   "source": [
    "#df_fea_imp_all\n",
    "df_fea_imp_sorted_all_max = df_fea_imp_all.groupby(['Feature_Name'])['Imp'].max().sort_values(ascending=False).reset_index()\n",
    "df_fea_imp_sorted_all_max.to_csv('//tsclient/U/General/Stand/fea_imp_max.csv',index=False)"
   ]
  },
  {
   "cell_type": "code",
   "execution_count": 288,
   "metadata": {
    "collapsed": true
   },
   "outputs": [],
   "source": [
    "#df_fea_imp_all\n",
    "df_fea_imp_sorted_all_min = df_fea_imp_all.groupby(['Feature_Name'])['Imp'].min().sort_values(ascending=False).reset_index()\n",
    "df_fea_imp_sorted_all_min.to_csv('//tsclient/U/General/Stand/fea_imp_min.csv',index=False)"
   ]
  },
  {
   "cell_type": "code",
   "execution_count": 298,
   "metadata": {},
   "outputs": [],
   "source": [
    "rf_fea_imp = df_fea_imp_sorted_all.Feature_Name[df_fea_imp_sorted_all.Imp > 0.005]"
   ]
  },
  {
   "cell_type": "code",
   "execution_count": 299,
   "metadata": {
    "collapsed": true
   },
   "outputs": [],
   "source": [
    "df_train_rf_sample = df_train.filter(items=rf_fea_imp)\n",
    "df_test_rf_sample = df_test.filter(items=rf_fea_imp)"
   ]
  },
  {
   "cell_type": "code",
   "execution_count": 300,
   "metadata": {
    "collapsed": true
   },
   "outputs": [],
   "source": [
    "df_train_sample_rf_tr = tr.fit_transform(df_train_rf_sample.values)\n",
    "df_test_sample_rf_tr = tr.transform(df_test_rf_sample.values)"
   ]
  },
  {
   "cell_type": "code",
   "execution_count": 302,
   "metadata": {
    "collapsed": true
   },
   "outputs": [],
   "source": [
    "model = RandomForestRegressor(n_jobs=-1,n_estimators=200,random_state=10)\n",
    "model.fit(df_train_sample_rf_tr,log_Y)\n",
    "log_ypred_rf = model.predict(df_test_sample_rf_tr)"
   ]
  },
  {
   "cell_type": "code",
   "execution_count": null,
   "metadata": {},
   "outputs": [],
   "source": []
  },
  {
   "cell_type": "code",
   "execution_count": 311,
   "metadata": {},
   "outputs": [
    {
     "ename": "FileNotFoundError",
     "evalue": "[Errno 2] No such file or directory: '//tsclient/U/General/Stand/submission_rf.csv'",
     "output_type": "error",
     "traceback": [
      "\u001b[1;31m---------------------------------------------------------------------------\u001b[0m",
      "\u001b[1;31mFileNotFoundError\u001b[0m                         Traceback (most recent call last)",
      "\u001b[1;32m<ipython-input-311-b0f52c086d38>\u001b[0m in \u001b[0;36m<module>\u001b[1;34m()\u001b[0m\n\u001b[0;32m      2\u001b[0m \u001b[0msub\u001b[0m \u001b[1;33m=\u001b[0m \u001b[0mpd\u001b[0m\u001b[1;33m.\u001b[0m\u001b[0mDataFrame\u001b[0m\u001b[1;33m(\u001b[0m\u001b[0mdf_test\u001b[0m\u001b[1;33m[\u001b[0m\u001b[1;34m'ID'\u001b[0m\u001b[1;33m]\u001b[0m\u001b[1;33m,\u001b[0m\u001b[0mcolumns\u001b[0m\u001b[1;33m=\u001b[0m\u001b[1;33m[\u001b[0m\u001b[1;34m'ID'\u001b[0m\u001b[1;33m]\u001b[0m\u001b[1;33m)\u001b[0m\u001b[1;33m\u001b[0m\u001b[0m\n\u001b[0;32m      3\u001b[0m \u001b[0msub\u001b[0m\u001b[1;33m[\u001b[0m\u001b[1;34m'target'\u001b[0m\u001b[1;33m]\u001b[0m \u001b[1;33m=\u001b[0m \u001b[0mypred\u001b[0m\u001b[1;33m\u001b[0m\u001b[0m\n\u001b[1;32m----> 4\u001b[1;33m \u001b[0msub\u001b[0m\u001b[1;33m.\u001b[0m\u001b[0mto_csv\u001b[0m\u001b[1;33m(\u001b[0m\u001b[1;34m'//tsclient/U/General/Stand/submission_rf.csv'\u001b[0m\u001b[1;33m,\u001b[0m\u001b[0mindex\u001b[0m\u001b[1;33m=\u001b[0m\u001b[1;32mFalse\u001b[0m\u001b[1;33m)\u001b[0m\u001b[1;33m\u001b[0m\u001b[0m\n\u001b[0m",
      "\u001b[1;32mC:\\Users\\cduk7o28\\AppData\\Local\\Continuum\\Anaconda3\\lib\\site-packages\\pandas\\core\\frame.py\u001b[0m in \u001b[0;36mto_csv\u001b[1;34m(self, path_or_buf, sep, na_rep, float_format, columns, header, index, index_label, mode, encoding, compression, quoting, quotechar, line_terminator, chunksize, tupleize_cols, date_format, doublequote, escapechar, decimal)\u001b[0m\n\u001b[0;32m   1411\u001b[0m                                      \u001b[0mdoublequote\u001b[0m\u001b[1;33m=\u001b[0m\u001b[0mdoublequote\u001b[0m\u001b[1;33m,\u001b[0m\u001b[1;33m\u001b[0m\u001b[0m\n\u001b[0;32m   1412\u001b[0m                                      escapechar=escapechar, decimal=decimal)\n\u001b[1;32m-> 1413\u001b[1;33m         \u001b[0mformatter\u001b[0m\u001b[1;33m.\u001b[0m\u001b[0msave\u001b[0m\u001b[1;33m(\u001b[0m\u001b[1;33m)\u001b[0m\u001b[1;33m\u001b[0m\u001b[0m\n\u001b[0m\u001b[0;32m   1414\u001b[0m \u001b[1;33m\u001b[0m\u001b[0m\n\u001b[0;32m   1415\u001b[0m         \u001b[1;32mif\u001b[0m \u001b[0mpath_or_buf\u001b[0m \u001b[1;32mis\u001b[0m \u001b[1;32mNone\u001b[0m\u001b[1;33m:\u001b[0m\u001b[1;33m\u001b[0m\u001b[0m\n",
      "\u001b[1;32mC:\\Users\\cduk7o28\\AppData\\Local\\Continuum\\Anaconda3\\lib\\site-packages\\pandas\\io\\formats\\format.py\u001b[0m in \u001b[0;36msave\u001b[1;34m(self)\u001b[0m\n\u001b[0;32m   1566\u001b[0m             f, handles = _get_handle(self.path_or_buf, self.mode,\n\u001b[0;32m   1567\u001b[0m                                      \u001b[0mencoding\u001b[0m\u001b[1;33m=\u001b[0m\u001b[0mself\u001b[0m\u001b[1;33m.\u001b[0m\u001b[0mencoding\u001b[0m\u001b[1;33m,\u001b[0m\u001b[1;33m\u001b[0m\u001b[0m\n\u001b[1;32m-> 1568\u001b[1;33m                                      compression=self.compression)\n\u001b[0m\u001b[0;32m   1569\u001b[0m             \u001b[0mclose\u001b[0m \u001b[1;33m=\u001b[0m \u001b[1;32mTrue\u001b[0m\u001b[1;33m\u001b[0m\u001b[0m\n\u001b[0;32m   1570\u001b[0m \u001b[1;33m\u001b[0m\u001b[0m\n",
      "\u001b[1;32mC:\\Users\\cduk7o28\\AppData\\Local\\Continuum\\Anaconda3\\lib\\site-packages\\pandas\\io\\common.py\u001b[0m in \u001b[0;36m_get_handle\u001b[1;34m(path_or_buf, mode, encoding, compression, memory_map, is_text)\u001b[0m\n\u001b[0;32m    380\u001b[0m         \u001b[1;32melif\u001b[0m \u001b[0mis_text\u001b[0m\u001b[1;33m:\u001b[0m\u001b[1;33m\u001b[0m\u001b[0m\n\u001b[0;32m    381\u001b[0m             \u001b[1;31m# Python 3 and no explicit encoding\u001b[0m\u001b[1;33m\u001b[0m\u001b[1;33m\u001b[0m\u001b[0m\n\u001b[1;32m--> 382\u001b[1;33m             \u001b[0mf\u001b[0m \u001b[1;33m=\u001b[0m \u001b[0mopen\u001b[0m\u001b[1;33m(\u001b[0m\u001b[0mpath_or_buf\u001b[0m\u001b[1;33m,\u001b[0m \u001b[0mmode\u001b[0m\u001b[1;33m,\u001b[0m \u001b[0merrors\u001b[0m\u001b[1;33m=\u001b[0m\u001b[1;34m'replace'\u001b[0m\u001b[1;33m)\u001b[0m\u001b[1;33m\u001b[0m\u001b[0m\n\u001b[0m\u001b[0;32m    383\u001b[0m         \u001b[1;32melse\u001b[0m\u001b[1;33m:\u001b[0m\u001b[1;33m\u001b[0m\u001b[0m\n\u001b[0;32m    384\u001b[0m             \u001b[1;31m# Python 3 and binary mode\u001b[0m\u001b[1;33m\u001b[0m\u001b[1;33m\u001b[0m\u001b[0m\n",
      "\u001b[1;31mFileNotFoundError\u001b[0m: [Errno 2] No such file or directory: '//tsclient/U/General/Stand/submission_rf.csv'"
     ]
    }
   ],
   "source": [
    "ypred = np.exp(log_ypred_rf)\n",
    "sub = pd.DataFrame(df_test['ID'],columns=['ID'])\n",
    "sub['target'] = ypred"
   ]
  },
  {
   "cell_type": "code",
   "execution_count": 315,
   "metadata": {},
   "outputs": [],
   "source": [
    "sub.to_csv('//tsclient/U/General/Stand/submission_rf.csv',index=False)"
   ]
  },
  {
   "cell_type": "code",
   "execution_count": null,
   "metadata": {
    "collapsed": true
   },
   "outputs": [],
   "source": []
  },
  {
   "cell_type": "code",
   "execution_count": 322,
   "metadata": {
    "collapsed": true
   },
   "outputs": [],
   "source": [
    "from sklearn.decomposition import PCA\n",
    "\n",
    "pca = PCA(n_components=50)\n",
    "pca_result = pca.fit_transform(df_train.values)\n"
   ]
  },
  {
   "cell_type": "code",
   "execution_count": 324,
   "metadata": {},
   "outputs": [
    {
     "data": {
      "text/plain": [
       "0.64479657523316247"
      ]
     },
     "execution_count": 324,
     "metadata": {},
     "output_type": "execute_result"
    }
   ],
   "source": [
    "np.sum(pca.explained_variance_ratio_)"
   ]
  },
  {
   "cell_type": "code",
   "execution_count": 325,
   "metadata": {
    "collapsed": true
   },
   "outputs": [],
   "source": [
    "import time\n",
    "\n",
    "from sklearn.manifold import TSNE\n",
    "\n",
    "n_sne = 7000\n",
    "\n",
    "time_start = time.time()\n",
    "tsne = TSNE(n_components=2, verbose=1, perplexity=40, n_iter=300)"
   ]
  },
  {
   "cell_type": "code",
   "execution_count": 326,
   "metadata": {},
   "outputs": [
    {
     "name": "stdout",
     "output_type": "stream",
     "text": [
      "[t-SNE] Computing 121 nearest neighbors...\n",
      "[t-SNE] Indexed 4459 samples in 0.016s...\n",
      "[t-SNE] Computed neighbors for 4459 samples in 2.948s...\n",
      "[t-SNE] Computed conditional probabilities for sample 1000 / 4459\n",
      "[t-SNE] Computed conditional probabilities for sample 2000 / 4459\n",
      "[t-SNE] Computed conditional probabilities for sample 3000 / 4459\n",
      "[t-SNE] Computed conditional probabilities for sample 4000 / 4459\n",
      "[t-SNE] Computed conditional probabilities for sample 4459 / 4459\n",
      "[t-SNE] Mean sigma: 98647.654529\n",
      "[t-SNE] KL divergence after 250 iterations with early exaggeration: 77.291969\n",
      "[t-SNE] Error after 300 iterations: 1.884481\n"
     ]
    }
   ],
   "source": [
    "tsne_results = tsne.fit_transform(pca_result)"
   ]
  },
  {
   "cell_type": "code",
   "execution_count": null,
   "metadata": {
    "collapsed": true
   },
   "outputs": [],
   "source": []
  },
  {
   "cell_type": "code",
   "execution_count": null,
   "metadata": {
    "collapsed": true
   },
   "outputs": [],
   "source": []
  },
  {
   "cell_type": "code",
   "execution_count": null,
   "metadata": {
    "collapsed": true
   },
   "outputs": [],
   "source": []
  },
  {
   "cell_type": "code",
   "execution_count": null,
   "metadata": {
    "collapsed": true
   },
   "outputs": [],
   "source": []
  },
  {
   "cell_type": "code",
   "execution_count": null,
   "metadata": {
    "collapsed": true
   },
   "outputs": [],
   "source": []
  },
  {
   "cell_type": "code",
   "execution_count": null,
   "metadata": {
    "collapsed": true
   },
   "outputs": [],
   "source": []
  },
  {
   "cell_type": "code",
   "execution_count": null,
   "metadata": {
    "collapsed": true
   },
   "outputs": [],
   "source": []
  },
  {
   "cell_type": "code",
   "execution_count": null,
   "metadata": {
    "collapsed": true
   },
   "outputs": [],
   "source": []
  },
  {
   "cell_type": "code",
   "execution_count": null,
   "metadata": {
    "collapsed": true
   },
   "outputs": [],
   "source": []
  }
 ],
 "metadata": {
  "kernelspec": {
   "display_name": "Python 3",
   "language": "python",
   "name": "python3"
  },
  "language_info": {
   "codemirror_mode": {
    "name": "ipython",
    "version": 3
   },
   "file_extension": ".py",
   "mimetype": "text/x-python",
   "name": "python",
   "nbconvert_exporter": "python",
   "pygments_lexer": "ipython3",
   "version": "3.6.1"
  }
 },
 "nbformat": 4,
 "nbformat_minor": 2
}
