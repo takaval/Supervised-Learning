{
 "cells": [
  {
   "cell_type": "markdown",
   "metadata": {},
   "source": [
    "Santander Bank is running a competition in Kaggle. This notebook is an attempt to solve the problem."
   ]
  },
  {
   "cell_type": "code",
   "execution_count": 58,
   "metadata": {
    "collapsed": true
   },
   "outputs": [],
   "source": [
    "import pandas as pd\n",
    "import numpy as np\n",
    "import scipy as sy\n",
    "import seaborn as sns\n",
    "from scipy import stats\n",
    "from scipy.stats import norm\n",
    "import matplotlib.pyplot as plt\n",
    "% matplotlib inline\n",
    "from sklearn.preprocessing import MinMaxScaler\n",
    "\n",
    "import warnings\n",
    "warnings.filterwarnings(\"ignore\")"
   ]
  },
  {
   "cell_type": "code",
   "execution_count": 2,
   "metadata": {
    "collapsed": true
   },
   "outputs": [],
   "source": [
    "df_train = pd.read_csv('//tsclient/U/General/Stand/train.csv')"
   ]
  },
  {
   "cell_type": "code",
   "execution_count": 3,
   "metadata": {
    "collapsed": true
   },
   "outputs": [],
   "source": [
    "df_test = pd.read_csv('//tsclient/U/General/Stand/test.csv')"
   ]
  },
  {
   "cell_type": "code",
   "execution_count": 4,
   "metadata": {},
   "outputs": [
    {
     "name": "stdout",
     "output_type": "stream",
     "text": [
      "The number of features are : 4993,& the number of instances are : 4459\n"
     ]
    }
   ],
   "source": [
    "print(\"The number of features are : {0},& the number of instances are : {1}\".format(df_train.shape[1],df_train.shape[0]))"
   ]
  },
  {
   "cell_type": "markdown",
   "metadata": {},
   "source": [
    "That's a lot of features, infact there are more features than instances. Let's try to reduce the dimensionality by using the following methods,\n",
    "1. Identify the features having high variance / standard deviation.\n",
    "2. Identify features which exhibit strong corelation with the Target variable.\n",
    "3. Using Random Forest, build large number of binary trees using a subset of features and identify the collective feature importance.\n",
    "\n",
    "Inspired : https://www.kdnuggets.com/2015/05/7-methods-data-dimensionality-reduction.html"
   ]
  },
  {
   "cell_type": "code",
   "execution_count": 5,
   "metadata": {},
   "outputs": [
    {
     "data": {
      "text/html": [
       "<div>\n",
       "<style>\n",
       "    .dataframe thead tr:only-child th {\n",
       "        text-align: right;\n",
       "    }\n",
       "\n",
       "    .dataframe thead th {\n",
       "        text-align: left;\n",
       "    }\n",
       "\n",
       "    .dataframe tbody tr th {\n",
       "        vertical-align: top;\n",
       "    }\n",
       "</style>\n",
       "<table border=\"1\" class=\"dataframe\">\n",
       "  <thead>\n",
       "    <tr style=\"text-align: right;\">\n",
       "      <th></th>\n",
       "      <th>ID</th>\n",
       "      <th>target</th>\n",
       "      <th>48df886f9</th>\n",
       "      <th>0deb4b6a8</th>\n",
       "      <th>34b15f335</th>\n",
       "      <th>a8cb14b00</th>\n",
       "      <th>2f0771a37</th>\n",
       "      <th>30347e683</th>\n",
       "      <th>d08d1fbe3</th>\n",
       "      <th>6ee66e115</th>\n",
       "      <th>...</th>\n",
       "      <th>3ecc09859</th>\n",
       "      <th>9281abeea</th>\n",
       "      <th>8675bec0b</th>\n",
       "      <th>3a13ed79a</th>\n",
       "      <th>f677d4d13</th>\n",
       "      <th>71b203550</th>\n",
       "      <th>137efaa80</th>\n",
       "      <th>fb36b89d9</th>\n",
       "      <th>7e293fbaf</th>\n",
       "      <th>9fc776466</th>\n",
       "    </tr>\n",
       "  </thead>\n",
       "  <tbody>\n",
       "    <tr>\n",
       "      <th>0</th>\n",
       "      <td>000d6aaf2</td>\n",
       "      <td>38000000.0</td>\n",
       "      <td>0.0</td>\n",
       "      <td>0</td>\n",
       "      <td>0.0</td>\n",
       "      <td>0</td>\n",
       "      <td>0</td>\n",
       "      <td>0</td>\n",
       "      <td>0</td>\n",
       "      <td>0</td>\n",
       "      <td>...</td>\n",
       "      <td>0.0</td>\n",
       "      <td>0.0</td>\n",
       "      <td>0.0</td>\n",
       "      <td>0</td>\n",
       "      <td>0</td>\n",
       "      <td>0</td>\n",
       "      <td>0</td>\n",
       "      <td>0</td>\n",
       "      <td>0</td>\n",
       "      <td>0</td>\n",
       "    </tr>\n",
       "    <tr>\n",
       "      <th>1</th>\n",
       "      <td>000fbd867</td>\n",
       "      <td>600000.0</td>\n",
       "      <td>0.0</td>\n",
       "      <td>0</td>\n",
       "      <td>0.0</td>\n",
       "      <td>0</td>\n",
       "      <td>0</td>\n",
       "      <td>0</td>\n",
       "      <td>0</td>\n",
       "      <td>0</td>\n",
       "      <td>...</td>\n",
       "      <td>0.0</td>\n",
       "      <td>0.0</td>\n",
       "      <td>0.0</td>\n",
       "      <td>0</td>\n",
       "      <td>0</td>\n",
       "      <td>0</td>\n",
       "      <td>0</td>\n",
       "      <td>0</td>\n",
       "      <td>0</td>\n",
       "      <td>0</td>\n",
       "    </tr>\n",
       "    <tr>\n",
       "      <th>2</th>\n",
       "      <td>0027d6b71</td>\n",
       "      <td>10000000.0</td>\n",
       "      <td>0.0</td>\n",
       "      <td>0</td>\n",
       "      <td>0.0</td>\n",
       "      <td>0</td>\n",
       "      <td>0</td>\n",
       "      <td>0</td>\n",
       "      <td>0</td>\n",
       "      <td>0</td>\n",
       "      <td>...</td>\n",
       "      <td>0.0</td>\n",
       "      <td>0.0</td>\n",
       "      <td>0.0</td>\n",
       "      <td>0</td>\n",
       "      <td>0</td>\n",
       "      <td>0</td>\n",
       "      <td>0</td>\n",
       "      <td>0</td>\n",
       "      <td>0</td>\n",
       "      <td>0</td>\n",
       "    </tr>\n",
       "    <tr>\n",
       "      <th>3</th>\n",
       "      <td>0028cbf45</td>\n",
       "      <td>2000000.0</td>\n",
       "      <td>0.0</td>\n",
       "      <td>0</td>\n",
       "      <td>0.0</td>\n",
       "      <td>0</td>\n",
       "      <td>0</td>\n",
       "      <td>0</td>\n",
       "      <td>0</td>\n",
       "      <td>0</td>\n",
       "      <td>...</td>\n",
       "      <td>0.0</td>\n",
       "      <td>0.0</td>\n",
       "      <td>0.0</td>\n",
       "      <td>0</td>\n",
       "      <td>0</td>\n",
       "      <td>0</td>\n",
       "      <td>0</td>\n",
       "      <td>0</td>\n",
       "      <td>0</td>\n",
       "      <td>0</td>\n",
       "    </tr>\n",
       "    <tr>\n",
       "      <th>4</th>\n",
       "      <td>002a68644</td>\n",
       "      <td>14400000.0</td>\n",
       "      <td>0.0</td>\n",
       "      <td>0</td>\n",
       "      <td>0.0</td>\n",
       "      <td>0</td>\n",
       "      <td>0</td>\n",
       "      <td>0</td>\n",
       "      <td>0</td>\n",
       "      <td>0</td>\n",
       "      <td>...</td>\n",
       "      <td>0.0</td>\n",
       "      <td>0.0</td>\n",
       "      <td>0.0</td>\n",
       "      <td>0</td>\n",
       "      <td>0</td>\n",
       "      <td>0</td>\n",
       "      <td>0</td>\n",
       "      <td>0</td>\n",
       "      <td>0</td>\n",
       "      <td>0</td>\n",
       "    </tr>\n",
       "  </tbody>\n",
       "</table>\n",
       "<p>5 rows × 4993 columns</p>\n",
       "</div>"
      ],
      "text/plain": [
       "          ID      target  48df886f9  0deb4b6a8  34b15f335  a8cb14b00  \\\n",
       "0  000d6aaf2  38000000.0        0.0          0        0.0          0   \n",
       "1  000fbd867    600000.0        0.0          0        0.0          0   \n",
       "2  0027d6b71  10000000.0        0.0          0        0.0          0   \n",
       "3  0028cbf45   2000000.0        0.0          0        0.0          0   \n",
       "4  002a68644  14400000.0        0.0          0        0.0          0   \n",
       "\n",
       "   2f0771a37  30347e683  d08d1fbe3  6ee66e115    ...      3ecc09859  \\\n",
       "0          0          0          0          0    ...            0.0   \n",
       "1          0          0          0          0    ...            0.0   \n",
       "2          0          0          0          0    ...            0.0   \n",
       "3          0          0          0          0    ...            0.0   \n",
       "4          0          0          0          0    ...            0.0   \n",
       "\n",
       "   9281abeea  8675bec0b  3a13ed79a  f677d4d13  71b203550  137efaa80  \\\n",
       "0        0.0        0.0          0          0          0          0   \n",
       "1        0.0        0.0          0          0          0          0   \n",
       "2        0.0        0.0          0          0          0          0   \n",
       "3        0.0        0.0          0          0          0          0   \n",
       "4        0.0        0.0          0          0          0          0   \n",
       "\n",
       "   fb36b89d9  7e293fbaf  9fc776466  \n",
       "0          0          0          0  \n",
       "1          0          0          0  \n",
       "2          0          0          0  \n",
       "3          0          0          0  \n",
       "4          0          0          0  \n",
       "\n",
       "[5 rows x 4993 columns]"
      ]
     },
     "execution_count": 5,
     "metadata": {},
     "output_type": "execute_result"
    }
   ],
   "source": [
    "df_train.head()"
   ]
  },
  {
   "cell_type": "code",
   "execution_count": 6,
   "metadata": {
    "collapsed": true
   },
   "outputs": [],
   "source": [
    "ID = df_train['ID']\n",
    "Y = df_train['target']"
   ]
  },
  {
   "cell_type": "code",
   "execution_count": 7,
   "metadata": {
    "collapsed": true
   },
   "outputs": [],
   "source": [
    "df_train.drop(['ID','target'],axis=1,inplace=True)"
   ]
  },
  {
   "cell_type": "markdown",
   "metadata": {},
   "source": [
    "Using the scikit learn MinMax scaler to normalize the data "
   ]
  },
  {
   "cell_type": "code",
   "execution_count": 9,
   "metadata": {
    "collapsed": true
   },
   "outputs": [],
   "source": [
    "tr = MinMaxScaler()"
   ]
  },
  {
   "cell_type": "code",
   "execution_count": 10,
   "metadata": {},
   "outputs": [],
   "source": [
    "df_train_tr = tr.fit_transform(df_train.values)"
   ]
  },
  {
   "cell_type": "code",
   "execution_count": 11,
   "metadata": {
    "collapsed": true
   },
   "outputs": [],
   "source": [
    "df_train_des = pd.DataFrame(df_train_tr,columns=df_train.columns)"
   ]
  },
  {
   "cell_type": "code",
   "execution_count": 12,
   "metadata": {
    "collapsed": true
   },
   "outputs": [],
   "source": [
    "df_train_des = df_train.describe().T"
   ]
  },
  {
   "cell_type": "code",
   "execution_count": 13,
   "metadata": {
    "collapsed": true
   },
   "outputs": [],
   "source": [
    "df_train_des = df_train_des.reset_index().rename(columns={'index':'columns'})"
   ]
  },
  {
   "cell_type": "code",
   "execution_count": 14,
   "metadata": {},
   "outputs": [
    {
     "data": {
      "text/html": [
       "<div>\n",
       "<style>\n",
       "    .dataframe thead tr:only-child th {\n",
       "        text-align: right;\n",
       "    }\n",
       "\n",
       "    .dataframe thead th {\n",
       "        text-align: left;\n",
       "    }\n",
       "\n",
       "    .dataframe tbody tr th {\n",
       "        vertical-align: top;\n",
       "    }\n",
       "</style>\n",
       "<table border=\"1\" class=\"dataframe\">\n",
       "  <thead>\n",
       "    <tr style=\"text-align: right;\">\n",
       "      <th></th>\n",
       "      <th>columns</th>\n",
       "      <th>count</th>\n",
       "      <th>mean</th>\n",
       "      <th>std</th>\n",
       "      <th>min</th>\n",
       "      <th>25%</th>\n",
       "      <th>50%</th>\n",
       "      <th>75%</th>\n",
       "      <th>max</th>\n",
       "    </tr>\n",
       "  </thead>\n",
       "  <tbody>\n",
       "    <tr>\n",
       "      <th>0</th>\n",
       "      <td>48df886f9</td>\n",
       "      <td>4459.0</td>\n",
       "      <td>14654.930101</td>\n",
       "      <td>3.893298e+05</td>\n",
       "      <td>0.0</td>\n",
       "      <td>0.0</td>\n",
       "      <td>0.0</td>\n",
       "      <td>0.0</td>\n",
       "      <td>20000000.0</td>\n",
       "    </tr>\n",
       "    <tr>\n",
       "      <th>1</th>\n",
       "      <td>0deb4b6a8</td>\n",
       "      <td>4459.0</td>\n",
       "      <td>1390.894819</td>\n",
       "      <td>6.428302e+04</td>\n",
       "      <td>0.0</td>\n",
       "      <td>0.0</td>\n",
       "      <td>0.0</td>\n",
       "      <td>0.0</td>\n",
       "      <td>4000000.0</td>\n",
       "    </tr>\n",
       "    <tr>\n",
       "      <th>2</th>\n",
       "      <td>34b15f335</td>\n",
       "      <td>4459.0</td>\n",
       "      <td>26722.450922</td>\n",
       "      <td>5.699652e+05</td>\n",
       "      <td>0.0</td>\n",
       "      <td>0.0</td>\n",
       "      <td>0.0</td>\n",
       "      <td>0.0</td>\n",
       "      <td>20000000.0</td>\n",
       "    </tr>\n",
       "    <tr>\n",
       "      <th>3</th>\n",
       "      <td>a8cb14b00</td>\n",
       "      <td>4459.0</td>\n",
       "      <td>4530.163714</td>\n",
       "      <td>2.359124e+05</td>\n",
       "      <td>0.0</td>\n",
       "      <td>0.0</td>\n",
       "      <td>0.0</td>\n",
       "      <td>0.0</td>\n",
       "      <td>14800000.0</td>\n",
       "    </tr>\n",
       "    <tr>\n",
       "      <th>4</th>\n",
       "      <td>2f0771a37</td>\n",
       "      <td>4459.0</td>\n",
       "      <td>26409.957390</td>\n",
       "      <td>1.514730e+06</td>\n",
       "      <td>0.0</td>\n",
       "      <td>0.0</td>\n",
       "      <td>0.0</td>\n",
       "      <td>0.0</td>\n",
       "      <td>100000000.0</td>\n",
       "    </tr>\n",
       "  </tbody>\n",
       "</table>\n",
       "</div>"
      ],
      "text/plain": [
       "     columns   count          mean           std  min  25%  50%  75%  \\\n",
       "0  48df886f9  4459.0  14654.930101  3.893298e+05  0.0  0.0  0.0  0.0   \n",
       "1  0deb4b6a8  4459.0   1390.894819  6.428302e+04  0.0  0.0  0.0  0.0   \n",
       "2  34b15f335  4459.0  26722.450922  5.699652e+05  0.0  0.0  0.0  0.0   \n",
       "3  a8cb14b00  4459.0   4530.163714  2.359124e+05  0.0  0.0  0.0  0.0   \n",
       "4  2f0771a37  4459.0  26409.957390  1.514730e+06  0.0  0.0  0.0  0.0   \n",
       "\n",
       "           max  \n",
       "0   20000000.0  \n",
       "1    4000000.0  \n",
       "2   20000000.0  \n",
       "3   14800000.0  \n",
       "4  100000000.0  "
      ]
     },
     "execution_count": 14,
     "metadata": {},
     "output_type": "execute_result"
    }
   ],
   "source": [
    "df_train_des.head()"
   ]
  },
  {
   "cell_type": "markdown",
   "metadata": {},
   "source": [
    "To establish the 'Variance' for each feature:"
   ]
  },
  {
   "cell_type": "code",
   "execution_count": 15,
   "metadata": {
    "collapsed": true
   },
   "outputs": [],
   "source": [
    "df_train_des['Variance'] = df_train_des['columns'].apply(lambda x : np.var(df_train[x]))"
   ]
  },
  {
   "cell_type": "code",
   "execution_count": 16,
   "metadata": {
    "scrolled": true
   },
   "outputs": [
    {
     "name": "stdout",
     "output_type": "stream",
     "text": [
      "Total features in the dataset is : 4991\n",
      "No of Columns having variance > Median is 2495 \n",
      "No of Columns having variance > 3rd quartile is 1248 \n",
      "No of Columns having variance > 85th percentile is 749 \n",
      "No of Columns having variance > 95th percentile is 250 \n"
     ]
    }
   ],
   "source": [
    "print(\"Total features in the dataset is : {0}\".format(df_train.shape[1]))\n",
    "print(\"No of Columns having variance > Median is {0} \".format(len(df_train_des['columns'][df_train_des['Variance'] > df_train_des['Variance'].quantile(.50)])))\n",
    "print(\"No of Columns having variance > 3rd quartile is {0} \".format(len(df_train_des['columns'][df_train_des['Variance'] > df_train_des['Variance'].quantile(.75)])))\n",
    "print(\"No of Columns having variance > 85th percentile is {0} \".format(len(df_train_des['columns'][df_train_des['Variance'] > df_train_des['Variance'].quantile(.85)])))\n",
    "print(\"No of Columns having variance > 95th percentile is {0} \".format(len(df_train_des['columns'][df_train_des['Variance'] > df_train_des['Variance'].quantile(.95)])))\n"
   ]
  },
  {
   "cell_type": "markdown",
   "metadata": {},
   "source": [
    "As we can see, the number of features exhibiting high variance (>95th percentile) is 250, \n",
    "i.e a 95% reduction. "
   ]
  },
  {
   "cell_type": "code",
   "execution_count": 17,
   "metadata": {
    "collapsed": true
   },
   "outputs": [],
   "source": [
    "df_train_des['distinct_vals'] = df_train_des['columns'].apply(lambda x : len(df_train[x].value_counts()))"
   ]
  },
  {
   "cell_type": "markdown",
   "metadata": {},
   "source": [
    "To establish the \"Standard Deviation\" & \"Pearson's Correlation\" for the features"
   ]
  },
  {
   "cell_type": "code",
   "execution_count": 18,
   "metadata": {
    "collapsed": true
   },
   "outputs": [],
   "source": [
    "#df_train_des['Mean'] = df_train_des['columns'].apply(lambda x : np.mean(df_train[x]))\n",
    "df_train_des['Std_Dev'] = df_train_des['columns'].apply(lambda x : np.std(df_train[x]))\n",
    "df_train_des['Corr'] = df_train_des['columns'].apply(lambda x : np.corrcoef(Y,df_train[x])[0][1])"
   ]
  },
  {
   "cell_type": "markdown",
   "metadata": {},
   "source": [
    "To cover the possibility of majority of features being ordinal, lets calculate \"Spearman rank correlation\" \n",
    "for this dataset."
   ]
  },
  {
   "cell_type": "code",
   "execution_count": 19,
   "metadata": {
    "collapsed": true
   },
   "outputs": [],
   "source": [
    "#(xranks, yranks)\n",
    "import scipy.stats\n",
    "df_train_des['Spearman_Corr'] = df_train_des['columns'].apply(lambda x : scipy.stats.pearsonr(Y,df_train[x])[0])"
   ]
  },
  {
   "cell_type": "code",
   "execution_count": 90,
   "metadata": {},
   "outputs": [
    {
     "data": {
      "text/plain": [
       "count    4.991000e+03\n",
       "mean     2.899561e+06\n",
       "std      4.458922e+06\n",
       "min      0.000000e+00\n",
       "25%      6.164478e+05\n",
       "50%      1.706187e+06\n",
       "75%      3.773485e+06\n",
       "max      6.971865e+07\n",
       "Name: Std_Dev, dtype: float64"
      ]
     },
     "execution_count": 90,
     "metadata": {},
     "output_type": "execute_result"
    }
   ],
   "source": [
    "df_train_des['Std_Dev'].describe()"
   ]
  },
  {
   "cell_type": "code",
   "execution_count": 21,
   "metadata": {},
   "outputs": [
    {
     "name": "stdout",
     "output_type": "stream",
     "text": [
      "Total features in the dataset is : 4991\n",
      "No of Columns having variance > Median is 2495 \n",
      "No of Columns having variance > 3rd quartile is 1248 \n",
      "No of Columns having variance > 85th percentile is 749 \n",
      "No of Columns having variance > 95th percentile is 250 \n"
     ]
    }
   ],
   "source": [
    "print(\"Total features in the dataset is : {0}\".format(df_train.shape[1]))\n",
    "print(\"No of Columns having variance > Median is {0} \".format(len(df_train_des['columns'][df_train_des['Std_Dev'] > df_train_des['Std_Dev'].quantile(.50)])))\n",
    "print(\"No of Columns having variance > 3rd quartile is {0} \".format(len(df_train_des['columns'][df_train_des['Std_Dev'] > df_train_des['Std_Dev'].quantile(.75)])))\n",
    "print(\"No of Columns having variance > 85th percentile is {0} \".format(len(df_train_des['columns'][df_train_des['Std_Dev'] > df_train_des['Std_Dev'].quantile(.85)])))\n",
    "print(\"No of Columns having variance > 95th percentile is {0} \".format(len(df_train_des['columns'][df_train_des['Std_Dev'] > df_train_des['Std_Dev'].quantile(.95)])))"
   ]
  },
  {
   "cell_type": "markdown",
   "metadata": {},
   "source": [
    "As we can see, the number of features exhibiting high Standard Deviation (>95th percentile) is 250, \n",
    "i.e a 95% reduction. "
   ]
  },
  {
   "cell_type": "code",
   "execution_count": 22,
   "metadata": {},
   "outputs": [
    {
     "data": {
      "text/plain": [
       "count    4735.000000\n",
       "mean        0.023465\n",
       "std         0.053689\n",
       "min        -0.051813\n",
       "25%        -0.007194\n",
       "50%         0.006248\n",
       "75%         0.028457\n",
       "max         0.273379\n",
       "Name: Spearman_Corr, dtype: float64"
      ]
     },
     "execution_count": 22,
     "metadata": {},
     "output_type": "execute_result"
    }
   ],
   "source": [
    "df_train_des['Spearman_Corr'].describe()"
   ]
  },
  {
   "cell_type": "code",
   "execution_count": 23,
   "metadata": {},
   "outputs": [
    {
     "data": {
      "text/plain": [
       "count    4735.000000\n",
       "mean        0.023465\n",
       "std         0.053689\n",
       "min        -0.051813\n",
       "25%        -0.007194\n",
       "50%         0.006248\n",
       "75%         0.028457\n",
       "max         0.273379\n",
       "Name: Corr, dtype: float64"
      ]
     },
     "execution_count": 23,
     "metadata": {},
     "output_type": "execute_result"
    }
   ],
   "source": [
    "df_train_des['Corr'].describe()"
   ]
  },
  {
   "cell_type": "markdown",
   "metadata": {},
   "source": [
    "Both Spearman rank correlation &  Pearson correlation exhibit similar distribution. Hence we can stick with either of \n",
    "them."
   ]
  },
  {
   "cell_type": "code",
   "execution_count": 24,
   "metadata": {},
   "outputs": [
    {
     "name": "stdout",
     "output_type": "stream",
     "text": [
      "Total features in the dataset is : 4991\n",
      "No of Columns having Corr > Median is 2367 \n",
      "No of Columns having Corr > 3rd quartile is 1184 \n",
      "No of Columns having Corr > 85th percentile is 711 \n",
      "No of Columns having Corr > 95th percentile is 237 \n"
     ]
    }
   ],
   "source": [
    "print(\"Total features in the dataset is : {0}\".format(df_train.shape[1]))\n",
    "print(\"No of Columns having Corr > Median is {0} \".format(len(df_train_des['columns'][df_train_des['Corr'] > df_train_des['Corr'].quantile(.50)])))\n",
    "print(\"No of Columns having Corr > 3rd quartile is {0} \".format(len(df_train_des['columns'][df_train_des['Corr'] > df_train_des['Corr'].quantile(.75)])))\n",
    "print(\"No of Columns having Corr > 85th percentile is {0} \".format(len(df_train_des['columns'][df_train_des['Corr'] > df_train_des['Corr'].quantile(.85)])))\n",
    "print(\"No of Columns having Corr > 95th percentile is {0} \".format(len(df_train_des['columns'][df_train_des['Corr'] > df_train_des['Corr'].quantile(.95)])))"
   ]
  },
  {
   "cell_type": "code",
   "execution_count": 25,
   "metadata": {},
   "outputs": [
    {
     "name": "stdout",
     "output_type": "stream",
     "text": [
      "Total features in the dataset is : 4991\n",
      "No of Columns having Spearman_Corr > Median is 2368 \n",
      "No of Columns having Spearman_Corr > 3rd quartile is 1184 \n",
      "No of Columns having Spearman_Corr > 85th percentile is 711 \n",
      "No of Columns having Spearman_Corr > 95th percentile is 237 \n"
     ]
    }
   ],
   "source": [
    "print(\"Total features in the dataset is : {0}\".format(df_train.shape[1]))\n",
    "print(\"No of Columns having Spearman_Corr > Median is {0} \".format(len(df_train_des['columns'][df_train_des['Corr'] > df_train_des['Spearman_Corr'].quantile(.50)])))\n",
    "print(\"No of Columns having Spearman_Corr > 3rd quartile is {0} \".format(len(df_train_des['columns'][df_train_des['Corr'] > df_train_des['Spearman_Corr'].quantile(.75)])))\n",
    "print(\"No of Columns having Spearman_Corr > 85th percentile is {0} \".format(len(df_train_des['columns'][df_train_des['Corr'] > df_train_des['Spearman_Corr'].quantile(.85)])))\n",
    "print(\"No of Columns having Spearman_Corr > 95th percentile is {0} \".format(len(df_train_des['columns'][df_train_des['Corr'] > df_train_des['Spearman_Corr'].quantile(.95)])))"
   ]
  },
  {
   "cell_type": "code",
   "execution_count": 26,
   "metadata": {
    "collapsed": true
   },
   "outputs": [],
   "source": [
    "col_stddev = list(df_train_des['columns'][df_train_des['Std_Dev'] > df_train_des['Std_Dev'].quantile(.95)])"
   ]
  },
  {
   "cell_type": "code",
   "execution_count": 27,
   "metadata": {
    "collapsed": true
   },
   "outputs": [],
   "source": [
    "col_corr = list(df_train_des['columns'][df_train_des['Corr'] > df_train_des['Corr'].quantile(.95)])"
   ]
  },
  {
   "cell_type": "code",
   "execution_count": 28,
   "metadata": {
    "collapsed": true
   },
   "outputs": [],
   "source": [
    "col_spearman_corr = list(df_train_des['columns'][df_train_des['Spearman_Corr'] > df_train_des['Spearman_Corr'].quantile(.95)])"
   ]
  },
  {
   "cell_type": "code",
   "execution_count": 29,
   "metadata": {
    "collapsed": true
   },
   "outputs": [],
   "source": [
    "# Intersection of features having high Standard Deviation & Correlation to the target\n",
    "fea_intersect = list(set.intersection(set(col_stddev),set(col_corr)))"
   ]
  },
  {
   "cell_type": "markdown",
   "metadata": {},
   "source": [
    "If we take the union of features having higher standard deviation & Correlation, we have 463 features, \n",
    "this  a 91% reduction from the original feature set(4993)"
   ]
  },
  {
   "cell_type": "code",
   "execution_count": 30,
   "metadata": {
    "collapsed": true
   },
   "outputs": [],
   "source": [
    "fea_union = list(set.union(set(col_stddev),set(col_corr)))"
   ]
  },
  {
   "cell_type": "code",
   "execution_count": 293,
   "metadata": {
    "collapsed": true
   },
   "outputs": [],
   "source": [
    "pd.DataFrame(fea_union).to_csv('//tsclient/U/General/Stand/feature_union.csv',index=False)"
   ]
  },
  {
   "cell_type": "code",
   "execution_count": 31,
   "metadata": {},
   "outputs": [],
   "source": [
    "# Filtering the train & test based on the intersection of features\n",
    "df_train_sample_intersect = df_train.filter(items=fea_intersect)\n",
    "df_test_sample_intersect = df_test.filter(items=fea_intersect)"
   ]
  },
  {
   "cell_type": "code",
   "execution_count": 32,
   "metadata": {
    "collapsed": true
   },
   "outputs": [],
   "source": [
    "df_train_sample_inter_tr = tr.fit_transform(df_train_sample_intersect.values)\n",
    "df_test_sample_inter_tr = tr.fit_transform(df_test_sample_intersect.values)"
   ]
  },
  {
   "cell_type": "code",
   "execution_count": 33,
   "metadata": {
    "collapsed": true
   },
   "outputs": [],
   "source": [
    "# Filtering the train & test based on the UNION of features\n",
    "df_train_sample_union = df_train.filter(items=fea_union)\n",
    "df_test_sample_union = df_test.filter(items=fea_union)"
   ]
  },
  {
   "cell_type": "code",
   "execution_count": 34,
   "metadata": {
    "collapsed": true
   },
   "outputs": [],
   "source": [
    "df_train_sample_un_tr = tr.fit_transform(df_train_sample_union.values)\n",
    "df_test_sample_un_tr = tr.transform(df_test_sample_union.values)"
   ]
  },
  {
   "cell_type": "raw",
   "metadata": {},
   "source": [
    "sns.distplot(Y,fit=norm);\n",
    "fig = plt.figure()\n",
    "res = stats.probplot(Y, plot=plt)"
   ]
  },
  {
   "cell_type": "code",
   "execution_count": 45,
   "metadata": {},
   "outputs": [
    {
     "data": {
      "image/png": "[encoded data removed]",
      "text/plain": [
       "<matplotlib.figure.Figure at 0xc9f31d4e80>"
      ]
     },
     "metadata": {},
     "output_type": "display_data"
    },
    {
     "data": {
      "image/png": "[encoded data removed]",
      "text/plain": [
       "<matplotlib.figure.Figure at 0xc9f31d4e48>"
      ]
     },
     "metadata": {},
     "output_type": "display_data"
    }
   ],
   "source": [
    "log_Y = np.log(Y)\n",
    "sns.distplot(log_Y,fit=norm);\n",
    "fig = plt.figure()\n",
    "res = stats.probplot(log_Y, plot=plt)"
   ]
  },
  {
   "cell_type": "code",
   "execution_count": 35,
   "metadata": {
    "collapsed": true
   },
   "outputs": [],
   "source": [
    "from sklearn.ensemble import RandomForestRegressor\n",
    "from sklearn.model_selection import GridSearchCV\n",
    "from sklearn.model_selection import RandomizedSearchCV\n",
    "from sklearn.metrics import make_scorer\n",
    "from sklearn.metrics import mean_squared_error\n",
    "from sklearn.model_selection import train_test_split\n",
    "from time import time"
   ]
  },
  {
   "cell_type": "code",
   "execution_count": 36,
   "metadata": {
    "collapsed": true
   },
   "outputs": [],
   "source": [
    "grid_param_grid = {\"n_estimators\": [200, 500,1000],\n",
    "    \"max_depth\": [3, None],\n",
    "    \"max_features\": [1, 3, 5, 10],\n",
    "    \"min_samples_split\": [2, 5, 10],\n",
    "    \"min_samples_leaf\": [1, 3, 10],\n",
    "    \"bootstrap\": [True, False],\n",
    "    \"criterion\" :['mse','mae']}"
   ]
  },
  {
   "cell_type": "code",
   "execution_count": 37,
   "metadata": {
    "collapsed": true
   },
   "outputs": [],
   "source": [
    "model = RandomForestRegressor(random_state=10)"
   ]
  },
  {
   "cell_type": "code",
   "execution_count": 39,
   "metadata": {
    "collapsed": true
   },
   "outputs": [],
   "source": [
    "n_iter_search = 20"
   ]
  },
  {
   "cell_type": "code",
   "execution_count": 42,
   "metadata": {},
   "outputs": [],
   "source": [
    "grid_search = RandomizedSearchCV(estimator=model,param_distributions=grid_param_grid,n_iter=n_iter_search,scoring='mean_squared_error')"
   ]
  },
  {
   "cell_type": "code",
   "execution_count": 43,
   "metadata": {
    "collapsed": true
   },
   "outputs": [],
   "source": [
    "# Utility function to report best scores\n",
    "def report(results, n_top=3):\n",
    "    for i in range(1, n_top + 1):\n",
    "        candidates = np.flatnonzero(results['rank_test_score'] == i)\n",
    "        for candidate in candidates:\n",
    "            print(\"Model with rank: {0}\".format(i))\n",
    "            print(\"Mean validation score: {0:.3f} (std: {1:.3f})\".format(\n",
    "                  results['mean_test_score'][candidate],\n",
    "                  results['std_test_score'][candidate]))\n",
    "            print(\"Parameters: {0}\".format(results['params'][candidate]))\n",
    "            print(\"\")"
   ]
  },
  {
   "cell_type": "code",
   "execution_count": 78,
   "metadata": {
    "collapsed": true
   },
   "outputs": [],
   "source": [
    "del X_train, X_val, y_train, y_val"
   ]
  },
  {
   "cell_type": "code",
   "execution_count": 79,
   "metadata": {},
   "outputs": [],
   "source": [
    "X_train, X_val, y_train, y_val = train_test_split(df_train_sample_un_tr, log_Y, test_size = 0.2, random_state = 0)"
   ]
  },
  {
   "cell_type": "code",
   "execution_count": 80,
   "metadata": {
    "collapsed": true
   },
   "outputs": [],
   "source": [
    "start = time()"
   ]
  },
  {
   "cell_type": "code",
   "execution_count": 81,
   "metadata": {},
   "outputs": [
    {
     "name": "stdout",
     "output_type": "stream",
     "text": [
      "GridSearchCV took 5308.98 seconds for 20 candidates parameter settings.\n",
      "Model with rank: 1\n",
      "Mean validation score: -2.170 (std: 0.078)\n",
      "Parameters: {'n_estimators': 1000, 'min_samples_split': 10, 'min_samples_leaf': 1, 'max_features': 1, 'max_depth': None, 'criterion': 'mae', 'bootstrap': False}\n",
      "\n",
      "Model with rank: 2\n",
      "Mean validation score: -2.176 (std: 0.072)\n",
      "Parameters: {'n_estimators': 1000, 'min_samples_split': 2, 'min_samples_leaf': 1, 'max_features': 3, 'max_depth': None, 'criterion': 'mae', 'bootstrap': False}\n",
      "\n",
      "Model with rank: 3\n",
      "Mean validation score: -2.200 (std: 0.088)\n",
      "Parameters: {'n_estimators': 1000, 'min_samples_split': 2, 'min_samples_leaf': 3, 'max_features': 5, 'max_depth': None, 'criterion': 'mse', 'bootstrap': False}\n",
      "\n"
     ]
    }
   ],
   "source": [
    "grid_search.fit(X_train,y_train)\n",
    "print(\"GridSearchCV took %.2f seconds for %d candidates\"\n",
    "      \" parameter settings.\" % ((time() - start), n_iter_search))\n",
    "report(grid_search.cv_results_)"
   ]
  },
  {
   "cell_type": "code",
   "execution_count": 82,
   "metadata": {},
   "outputs": [],
   "source": [
    "y_pred_val = grid_search.predict(X_val)"
   ]
  },
  {
   "cell_type": "code",
   "execution_count": 63,
   "metadata": {},
   "outputs": [
    {
     "data": {
      "text/plain": [
       "<matplotlib.text.Text at 0xc9e60a2ac8>"
      ]
     },
     "execution_count": 63,
     "metadata": {},
     "output_type": "execute_result"
    },
    {
     "data": {
      "image/png": "[encoded data removed]",
      "text/plain": [
       "<matplotlib.figure.Figure at 0xc9fab72278>"
      ]
     },
     "metadata": {},
     "output_type": "display_data"
    }
   ],
   "source": [
    "plt.scatter(y_val, y_pred_val)\n",
    "plt.xlabel(\"True\")\n",
    "plt.ylabel(\"Pred\")"
   ]
  },
  {
   "cell_type": "code",
   "execution_count": 64,
   "metadata": {},
   "outputs": [
    {
     "name": "stdout",
     "output_type": "stream",
     "text": [
      "Root Mean Squared Error: 1.44219455275\n"
     ]
    }
   ],
   "source": [
    "from sklearn import metrics  \n",
    "print('Root Mean Squared Error:', np.sqrt(metrics.mean_squared_error(y_val, y_pred_val)))"
   ]
  },
  {
   "cell_type": "code",
   "execution_count": 83,
   "metadata": {},
   "outputs": [],
   "source": [
    "log_ypred = grid_search.predict(df_test_sample_un_tr)"
   ]
  },
  {
   "cell_type": "code",
   "execution_count": 84,
   "metadata": {
    "collapsed": true
   },
   "outputs": [],
   "source": [
    "ypred = np.exp(log_ypred)\n",
    "ID = df_test['ID']"
   ]
  },
  {
   "cell_type": "code",
   "execution_count": 85,
   "metadata": {},
   "outputs": [],
   "source": [
    "sub = pd.DataFrame({'ID':ID,'target':ypred})"
   ]
  },
  {
   "cell_type": "code",
   "execution_count": 86,
   "metadata": {
    "collapsed": true
   },
   "outputs": [],
   "source": [
    "sub.to_csv('//tsclient/U/General/Stand/submission__aug_05_0.1.csv',index=False)"
   ]
  },
  {
   "cell_type": "markdown",
   "metadata": {
    "collapsed": true
   },
   "source": [
    "If we submit the above file, we get a score of 1.54 (topper is @ 0.47), \n",
    "which isnt bad considering the minimum effort we had put in and the choice of algorithm."
   ]
  },
  {
   "cell_type": "markdown",
   "metadata": {},
   "source": [
    "Now re-training on the entire dataset"
   ]
  },
  {
   "cell_type": "code",
   "execution_count": 72,
   "metadata": {},
   "outputs": [
    {
     "name": "stdout",
     "output_type": "stream",
     "text": [
      "GridSearchCV took 12108.42 seconds for 20 candidates parameter settings.\n",
      "Model with rank: 1\n",
      "Mean validation score: -2.117 (std: 0.120)\n",
      "Parameters: {'n_estimators': 200, 'min_samples_split': 2, 'min_samples_leaf': 3, 'max_features': 10, 'max_depth': None, 'criterion': 'mae', 'bootstrap': False}\n",
      "\n",
      "Model with rank: 2\n",
      "Mean validation score: -2.133 (std: 0.119)\n",
      "Parameters: {'n_estimators': 200, 'min_samples_split': 10, 'min_samples_leaf': 1, 'max_features': 3, 'max_depth': None, 'criterion': 'mae', 'bootstrap': False}\n",
      "\n",
      "Model with rank: 3\n",
      "Mean validation score: -2.150 (std: 0.104)\n",
      "Parameters: {'n_estimators': 500, 'min_samples_split': 2, 'min_samples_leaf': 1, 'max_features': 5, 'max_depth': None, 'criterion': 'mse', 'bootstrap': False}\n",
      "\n"
     ]
    }
   ],
   "source": [
    "grid_search.fit(df_train_sample_un_tr,log_Y)\n",
    "print(\"GridSearchCV took %.2f seconds for %d candidates\"\n",
    "      \" parameter settings.\" % ((time() - start), n_iter_search))\n",
    "report(grid_search.cv_results_)"
   ]
  },
  {
   "cell_type": "code",
   "execution_count": 74,
   "metadata": {
    "collapsed": true
   },
   "outputs": [],
   "source": [
    "log_ypred = grid_search.predict(df_test_sample_un_tr)"
   ]
  },
  {
   "cell_type": "code",
   "execution_count": 75,
   "metadata": {
    "collapsed": true
   },
   "outputs": [],
   "source": [
    "ypred = np.exp(log_ypred)\n",
    "ID = df_test['ID']"
   ]
  },
  {
   "cell_type": "code",
   "execution_count": 77,
   "metadata": {
    "collapsed": true
   },
   "outputs": [],
   "source": [
    "sub = pd.DataFrame({'ID':ID,'target':ypred})\n",
    "sub.to_csv('//tsclient/U/General/Stand/submission__aug_05_0.2.csv',index=False)"
   ]
  },
  {
   "cell_type": "markdown",
   "metadata": {},
   "source": [
    "If we submit the above file, we get a score of 1.51 (topper is @ 0.47), \n",
    "which isnt bad considering the minimum effort we had put in and the choice of algorithm."
   ]
  },
  {
   "cell_type": "code",
   "execution_count": null,
   "metadata": {
    "collapsed": true
   },
   "outputs": [],
   "source": []
  },
  {
   "cell_type": "code",
   "execution_count": null,
   "metadata": {
    "collapsed": true
   },
   "outputs": [],
   "source": []
  },
  {
   "cell_type": "code",
   "execution_count": null,
   "metadata": {
    "collapsed": true
   },
   "outputs": [],
   "source": []
  }
 ],
 "metadata": {
  "kernelspec": {
   "display_name": "Python 3",
   "language": "python",
   "name": "python3"
  },
  "language_info": {
   "codemirror_mode": {
    "name": "ipython",
    "version": 3
   },
   "file_extension": ".py",
   "mimetype": "text/x-python",
   "name": "python",
   "nbconvert_exporter": "python",
   "pygments_lexer": "ipython3",
   "version": "3.6.1"
  }
 },
 "nbformat": 4,
 "nbformat_minor": 2
}
